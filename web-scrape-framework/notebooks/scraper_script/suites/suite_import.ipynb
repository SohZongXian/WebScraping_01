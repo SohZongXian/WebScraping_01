{
 "cells": [
  {
   "cell_type": "markdown",
   "metadata": {},
   "source": [
    "# Suite: Import\n",
    "Using Library Python Selenium to test the web site"
   ]
  },
  {
   "cell_type": "code",
   "execution_count": 1,
   "metadata": {},
   "outputs": [],
   "source": [
    "# ####### DEBUG ONLY #######\n",
    "# ####### Load the \"autoreload\" extension #######\n",
    "%load_ext autoreload\n",
    "# ####### always reload modules marked with \"%import\" #######\n",
    "%autoreload 2\n",
    "\n",
    "import os\n",
    "import sys\n",
    "\n",
    "sys.path.append(\"../config\")\n",
    "sys.path.append(\"../util\")\n",
    "sys.path.append(\"../tests\")"
   ]
  },
  {
   "cell_type": "code",
   "execution_count": 2,
   "metadata": {},
   "outputs": [],
   "source": [
    "# Importing packages\n",
    "from config import config\n",
    "from datetime import datetime, timedelta\n",
    "import json\n",
    "import logging\n",
    "import logging.config\n",
    "import pathlib\n",
    "from pprint import pprint\n",
    "import fx_test\n",
    "from fx_test import TestEngine\n",
    "import time\n",
    "\n",
    "from selenium.common.exceptions import StaleElementReferenceException, TimeoutException, ElementClickInterceptedException\n",
    "from selenium.webdriver.common.action_chains import ActionChains\n",
    "from selenium.webdriver.common.by import By\n",
    "from selenium.webdriver.support import expected_conditions\n",
    "from selenium.webdriver.support.ui import Select, WebDriverWait\n",
    "from selenium.webdriver.common.keys import Keys\n",
    "\n",
    "import unittest\n",
    "from ui_helper import UIHelper"
   ]
  },
  {
   "cell_type": "markdown",
   "metadata": {},
   "source": [
    "## Variables Declaration"
   ]
  },
  {
   "cell_type": "code",
   "execution_count": 3,
   "metadata": {},
   "outputs": [
    {
     "name": "stdout",
     "output_type": "stream",
     "text": [
      "[INFO] Test Suite: suite_import\n",
      "[INFO] Suite Case: suite_01\n"
     ]
    }
   ],
   "source": [
    "log_config = \"../config/logging.conf\"\n",
    "\n",
    "# # Create folder \"logs\"\n",
    "# pathlib.Path('../logs').mkdir(exist_ok=True)  \n",
    "# logging.log_file = datetime.now().strftime('../logs/log_%Y%m%d_%H%M%S.log')\n",
    "logging.config.fileConfig(log_config, disable_existing_loggers=False)\n",
    "logger = logging.getLogger(__name__)\n",
    "\n",
    "suite_name = \"suite_import\"\n",
    "suite_case = \"suite_01\"\n",
    "logger.info(\"Test Suite: {}\".format(suite_name))\n",
    "logger.info(\"Suite Case: {}\".format(suite_case))"
   ]
  },
  {
   "cell_type": "markdown",
   "metadata": {},
   "source": [
    "## Functions Definition"
   ]
  },
  {
   "cell_type": "code",
   "execution_count": null,
   "metadata": {},
   "outputs": [],
   "source": []
  },
  {
   "cell_type": "markdown",
   "metadata": {},
   "source": [
    "### Main Function Begin\n",
    "def main(args):"
   ]
  },
  {
   "cell_type": "code",
   "execution_count": 4,
   "metadata": {},
   "outputs": [
    {
     "name": "stdout",
     "output_type": "stream",
     "text": [
      "[INFO] Mode: windows\n",
      "[INFO] Base Url: http://211.25.204.108:30002/\n",
      "[INFO] User Name: putri.wijaya@adv-fusionex.com\n"
     ]
    }
   ],
   "source": [
    "mode = config[\"web\"][\"mode\"]\n",
    "base_url = config[\"web\"][\"base_url\"]\n",
    "timeout = config[\"web\"][\"timeout\"]\n",
    "user_name = config[\"web\"][\"user_name\"]\n",
    "password = config[\"web\"][\"password\"]\n",
    "company_short_name = config[\"data\"][\"company_short_name\"]\n",
    "local_folder_path = config[\"path\"][\"local_folder_path\"]\n",
    "\n",
    "if mode == \"windows\":\n",
    "    driver_path = \"../../../library/drivers/chrome/win/chromedriver.exe\"\n",
    "else:\n",
    "    driver_path = \"../../../library/drivers/chrome/mac/chromedriver\"\n",
    "    \n",
    "logger.info(\"Mode: {}\".format(mode))\n",
    "logger.info(\"Base Url: {}\".format(base_url))\n",
    "logger.info(\"User Name: {}\".format(user_name))"
   ]
  },
  {
   "cell_type": "code",
   "execution_count": 5,
   "metadata": {},
   "outputs": [
    {
     "name": "stdout",
     "output_type": "stream",
     "text": [
      "WebDriver created!\n",
      "Mode: windows\n",
      "Driver Path: ../../../library/drivers/chrome/win/chromedriver.exe\n",
      "Timeout: 10\n"
     ]
    }
   ],
   "source": [
    "# Get web page\n",
    "instance = TestEngine(mode=\"windows\", driver_path=\"../../../library/drivers/chrome/win/chromedriver.exe\", timeout=30)\n",
    "instance.get_driver().get(base_url)"
   ]
  },
  {
   "cell_type": "markdown",
   "metadata": {},
   "source": [
    "<a id='top'></a>\n",
    "## Table of contents\n",
    "- <a href='#data_load'>Load Test Data</a>\n",
    "- <a href='#login'>Login</a>\n",
    "- <a href='#switch_company'>Switch Company</a>\n",
    "- <a href='#items'>Items</a>\n",
    "- <a href='#sales'>Sales</a>\n",
    "<ul>\n",
    "    <li><a href='#invoices'>Invoices</a></li>\n",
    "    <li><a href='#collections'>Collections</a></li>\n",
    "    <li><a href='#credit_notes'>Credit Notes</a></li>\n",
    "    <li><a href='#customers'>Customers</a></li>\n",
    "</ul>\n",
    "- <a href='#purchases'>Sales</a>\n",
    "<ul>\n",
    "    <li><a href='#purchase_invoices'>Purchase Invoices</a></li>\n",
    "    <li><a href='#payments'>Payments</a></li>\n",
    "    <li><a href='#debit_notes'>Debit Notes</a></li>\n",
    "    <li><a href='#vendors'>Vendors</a></li>\n",
    "</ul>\n",
    "- <a href='#banking'>Sales</a>\n",
    "<ul>\n",
    "    <li><a href='#transfers'>Transfers</a></li>\n",
    "    <li><a href='#transactions'>Transactions</a></li>\n",
    "</ul>\n",
    "- <a href='#double_entry'>Double Entry</a>\n",
    "<ul>\n",
    "    <li><a href='#chart_of_accounts'>Chart of Accounts</a></li>\n",
    "</ul>"
   ]
  },
  {
   "cell_type": "markdown",
   "metadata": {},
   "source": [
    "<a id='login'></a>\n",
    "### Login\n",
    "<a href='#top'>top</a>"
   ]
  },
  {
   "cell_type": "code",
   "execution_count": 6,
   "metadata": {},
   "outputs": [],
   "source": [
    "ui = UIHelper(instance, user_name=user_name, password=password)\n",
    "ui.login()"
   ]
  },
  {
   "cell_type": "markdown",
   "metadata": {},
   "source": [
    "<a id='switch_company'></a>\n",
    "### Switch Company\n",
    "<a href='#top'>top</a>"
   ]
  },
  {
   "cell_type": "code",
   "execution_count": null,
   "metadata": {},
   "outputs": [],
   "source": [
    "ui.switch_company(company_short_name)"
   ]
  },
  {
   "cell_type": "markdown",
   "metadata": {},
   "source": [
    "<a id='items'></a>\n",
    "### Items\n",
    "<a href='#top'>top</a>"
   ]
  },
  {
   "cell_type": "code",
   "execution_count": 10,
   "metadata": {},
   "outputs": [],
   "source": [
    "ui.click_side_menu(\"Items\")"
   ]
  },
  {
   "cell_type": "code",
   "execution_count": 11,
   "metadata": {},
   "outputs": [],
   "source": [
    "ui.click_import()\n",
    "file_path = f\"{local_folder_path}/items.xlsx\"\n",
    "ui.import_file(file_path)"
   ]
  },
  {
   "cell_type": "markdown",
   "metadata": {},
   "source": [
    "<a id='sales'></a>\n",
    "### Sales\n",
    "<a href='#top'>top</a>"
   ]
  },
  {
   "cell_type": "markdown",
   "metadata": {},
   "source": [
    "<a id='invoices'></a>\n",
    "#### Invoices\n",
    "<a href='#top'>top</a>"
   ]
  },
  {
   "cell_type": "code",
   "execution_count": 7,
   "metadata": {},
   "outputs": [],
   "source": [
    "ui.click_side_menu(\"Sales\", \"Invoices\")"
   ]
  },
  {
   "cell_type": "code",
   "execution_count": 8,
   "metadata": {},
   "outputs": [],
   "source": [
    "ui.click_import()\n",
    "file_path = f\"{local_folder_path}/invoices.xlsx\"\n",
    "ui.import_file(file_path)"
   ]
  },
  {
   "cell_type": "markdown",
   "metadata": {},
   "source": [
    "<a id='collections'></a>\n",
    "#### Collections\n",
    "<a href='#top'>top</a>"
   ]
  },
  {
   "cell_type": "code",
   "execution_count": 20,
   "metadata": {},
   "outputs": [],
   "source": [
    "ui.click_side_menu(\"Sales\", \"Collections\")"
   ]
  },
  {
   "cell_type": "code",
   "execution_count": 21,
   "metadata": {},
   "outputs": [],
   "source": [
    "ui.click_import()\n",
    "file_path = f\"{local_folder_path}/revenues.xlsx\"\n",
    "ui.import_file(file_path)"
   ]
  },
  {
   "cell_type": "markdown",
   "metadata": {},
   "source": [
    "<a id='credit_notes'></a>\n",
    "#### Credit Notes\n",
    "<a href='#top'>top</a>"
   ]
  },
  {
   "cell_type": "code",
   "execution_count": null,
   "metadata": {},
   "outputs": [],
   "source": [
    "# ui.click_side_menu(\"Sales\", \"Credit Notes\")"
   ]
  },
  {
   "cell_type": "code",
   "execution_count": null,
   "metadata": {},
   "outputs": [],
   "source": [
    "# ui.click_import()\n",
    "# file_path = f\"{local_folder_path}/creditnotes.xlsx\"\n",
    "# ui.import_file(file_path)"
   ]
  },
  {
   "cell_type": "markdown",
   "metadata": {},
   "source": [
    "<a id='customers'></a>\n",
    "#### Customers\n",
    "<a href='#top'>top</a>"
   ]
  },
  {
   "cell_type": "code",
   "execution_count": 11,
   "metadata": {},
   "outputs": [],
   "source": [
    "ui.click_side_menu(\"Sales\", \"Customers\")"
   ]
  },
  {
   "cell_type": "code",
   "execution_count": 12,
   "metadata": {},
   "outputs": [],
   "source": [
    "ui.click_import()\n",
    "file_path = f\"{local_folder_path}/customers.xlsx\"\n",
    "ui.import_file(file_path)"
   ]
  },
  {
   "cell_type": "markdown",
   "metadata": {},
   "source": [
    "<a id='purchases'></a>\n",
    "### Purchases\n",
    "<a href='#top'>top</a>"
   ]
  },
  {
   "cell_type": "markdown",
   "metadata": {},
   "source": [
    "<a id='purchase_invoices'></a>\n",
    "#### Purchase Invoices\n",
    "<a href='#top'>top</a>"
   ]
  },
  {
   "cell_type": "code",
   "execution_count": 26,
   "metadata": {},
   "outputs": [],
   "source": [
    "# ui.click_side_menu(\"Purchases\", \"Purchase Invoices\")"
   ]
  },
  {
   "cell_type": "code",
   "execution_count": 27,
   "metadata": {},
   "outputs": [],
   "source": [
    "# ui.click_import()\n",
    "# file_path = f\"{local_folder_path}/bills.xlsx\"\n",
    "# ui.import_file(file_path)"
   ]
  },
  {
   "cell_type": "markdown",
   "metadata": {},
   "source": [
    "<a id='payments'></a>\n",
    "#### Payments\n",
    "<a href='#top'>top</a>"
   ]
  },
  {
   "cell_type": "code",
   "execution_count": 16,
   "metadata": {},
   "outputs": [],
   "source": [
    "# ui.click_side_menu(\"Purchases\", \"Payments\")"
   ]
  },
  {
   "cell_type": "code",
   "execution_count": 17,
   "metadata": {},
   "outputs": [],
   "source": [
    "# ui.click_import()\n",
    "# file_path = f\"{local_folder_path}/payments.xlsx\"\n",
    "# ui.import_file(file_path)"
   ]
  },
  {
   "cell_type": "markdown",
   "metadata": {},
   "source": [
    "<a id='debit_notes'></a>\n",
    "#### Debit Notes\n",
    "<a href='#top'>top</a>"
   ]
  },
  {
   "cell_type": "code",
   "execution_count": null,
   "metadata": {},
   "outputs": [],
   "source": [
    "# ui.click_side_menu(\"Purchases\", \"Debit Notes\")"
   ]
  },
  {
   "cell_type": "code",
   "execution_count": null,
   "metadata": {},
   "outputs": [],
   "source": [
    "# ui.click_import()\n",
    "# file_path = f\"{local_folder_path}/debitnotes.xlsx\"\n",
    "# ui.import_file(file_path)"
   ]
  },
  {
   "cell_type": "markdown",
   "metadata": {},
   "source": [
    "<a id='vendors'></a>\n",
    "#### Vendors\n",
    "<a href='#top'>top</a>"
   ]
  },
  {
   "cell_type": "code",
   "execution_count": 13,
   "metadata": {},
   "outputs": [],
   "source": [
    "ui.click_side_menu(\"Purchases\", \"Vendors\")"
   ]
  },
  {
   "cell_type": "code",
   "execution_count": 14,
   "metadata": {},
   "outputs": [],
   "source": [
    "ui.click_import()\n",
    "file_path = f\"{local_folder_path}/vendors.xlsx\"\n",
    "ui.import_file(file_path)"
   ]
  },
  {
   "cell_type": "markdown",
   "metadata": {},
   "source": [
    "<a id='banking'></a>\n",
    "### Banking\n",
    "<a href='#top'>top</a>"
   ]
  },
  {
   "cell_type": "markdown",
   "metadata": {},
   "source": [
    "<a id='transfers'></a>\n",
    "#### Transfers\n",
    "<a href='#top'>top</a>"
   ]
  },
  {
   "cell_type": "code",
   "execution_count": 20,
   "metadata": {},
   "outputs": [],
   "source": [
    "# ui.click_side_menu(\"Banking\", \"Transfers\")"
   ]
  },
  {
   "cell_type": "code",
   "execution_count": 21,
   "metadata": {},
   "outputs": [],
   "source": [
    "# ui.click_import()\n",
    "# file_path = f\"{local_folder_path}/transfers.xlsx\"\n",
    "# ui.import_file(file_path)"
   ]
  },
  {
   "cell_type": "markdown",
   "metadata": {},
   "source": [
    "<a id='transactions'></a>\n",
    "#### Transactions\n",
    "<a href='#top'>top</a>"
   ]
  },
  {
   "cell_type": "code",
   "execution_count": 22,
   "metadata": {},
   "outputs": [],
   "source": [
    "# ui.click_side_menu(\"Banking\", \"Transactions\")"
   ]
  },
  {
   "cell_type": "code",
   "execution_count": 23,
   "metadata": {},
   "outputs": [],
   "source": [
    "# ui.click_import()\n",
    "# file_path = f\"{local_folder_path}/transactions.xlsx\"\n",
    "# ui.import_file(file_path)"
   ]
  },
  {
   "cell_type": "markdown",
   "metadata": {},
   "source": [
    "<a id='double_entry'></a>\n",
    "### Double Entry\n",
    "<a href='#top'>top</a>"
   ]
  },
  {
   "cell_type": "markdown",
   "metadata": {},
   "source": [
    "<a id='chart_of_accounts'></a>\n",
    "#### Chart of Accounts\n",
    "<a href='#top'>top</a>"
   ]
  },
  {
   "cell_type": "code",
   "execution_count": 16,
   "metadata": {},
   "outputs": [],
   "source": [
    "ui.click_side_menu(\"Double-Entry\", \"Chart of Accounts\")"
   ]
  },
  {
   "cell_type": "code",
   "execution_count": 17,
   "metadata": {},
   "outputs": [],
   "source": [
    "ui.click_import()\n",
    "file_path = f\"{local_folder_path}/chart-of-accounts.xlsx\"\n",
    "ui.import_file(file_path)"
   ]
  },
  {
   "cell_type": "code",
   "execution_count": null,
   "metadata": {},
   "outputs": [],
   "source": [
    "instance.close()"
   ]
  }
 ],
 "metadata": {
  "anaconda-cloud": {},
  "kernelspec": {
   "display_name": "Python 3",
   "language": "python",
   "name": "python3"
  },
  "language_info": {
   "codemirror_mode": {
    "name": "ipython",
    "version": 3
   },
   "file_extension": ".py",
   "mimetype": "text/x-python",
   "name": "python",
   "nbconvert_exporter": "python",
   "pygments_lexer": "ipython3",
   "version": "3.6.10"
  }
 },
 "nbformat": 4,
 "nbformat_minor": 4
}
