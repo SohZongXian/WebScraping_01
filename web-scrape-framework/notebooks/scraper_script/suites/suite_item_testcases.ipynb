{
 "cells": [
  {
   "cell_type": "markdown",
   "metadata": {},
   "source": [
    "# Suite: Item\n",
    "\n",
    "Using Library Python Selenium to test the web site"
   ]
  },
  {
   "cell_type": "code",
   "execution_count": 77,
   "metadata": {},
   "outputs": [
    {
     "name": "stdout",
     "output_type": "stream",
     "text": [
      "The autoreload extension is already loaded. To reload it, use:\n",
      "  %reload_ext autoreload\n"
     ]
    }
   ],
   "source": [
    "# ####### DEBUG ONLY #######\n",
    "# ####### Load the \"autoreload\" extension #######\n",
    "%load_ext autoreload\n",
    "# ####### always reload modules marked with \"%import\" #######\n",
    "%autoreload 2\n",
    "\n",
    "import os\n",
    "import sys\n",
    "\n",
    "sys.path.append(\"../util\")\n",
    "sys.path.append(\"../config\")\n",
    "sys.path.append(\"../tests\")"
   ]
  },
  {
   "cell_type": "code",
   "execution_count": 78,
   "metadata": {},
   "outputs": [],
   "source": [
    "# Importing packages\n",
    "from config import config\n",
    "from datetime import datetime, timedelta\n",
    "import json\n",
    "import logging\n",
    "import logging.config\n",
    "import pathlib\n",
    "import time\n",
    "import fx_test\n",
    "from fx_test import TestEngine\n",
    "import unittest\n",
    "from ui_helper import UIHelper\n",
    "from test_ui_item import TestUIItems\n",
    "\n",
    "from selenium.common.exceptions import StaleElementReferenceException, TimeoutException, ElementClickInterceptedException\n",
    "from selenium.webdriver.common.action_chains import ActionChains\n",
    "from selenium.webdriver.common.by import By\n",
    "from selenium.webdriver.support import expected_conditions\n",
    "from selenium.webdriver.support.ui import Select, WebDriverWait\n",
    "from selenium.webdriver.common.keys import Keys"
   ]
  },
  {
   "cell_type": "markdown",
   "metadata": {},
   "source": [
    "## Variables Declaration"
   ]
  },
  {
   "cell_type": "code",
   "execution_count": 80,
   "metadata": {},
   "outputs": [
    {
     "name": "stdout",
     "output_type": "stream",
     "text": [
      "[INFO] Test Suite: suite_inventory\n",
      "[INFO] Suite Case: suite_02\n"
     ]
    }
   ],
   "source": [
    "log_config = \"../config/logging.conf\"\n",
    "\n",
    "# # Create folder \"logs\"\n",
    "# pathlib.Path('../logs').mkdir(exist_ok=True)  \n",
    "# logging.log_file = datetime.now().strftime('../logs/log_%Y%m%d_%H%M%S.log')\n",
    "logging.config.fileConfig(log_config, disable_existing_loggers=False)\n",
    "logger = logging.getLogger(__name__)\n",
    "\n",
    "suite_name = \"suite_inventory\"\n",
    "suite_case = \"suite_02\"\n",
    "logger.info(\"Test Suite: {}\".format(suite_name))\n",
    "logger.info(\"Suite Case: {}\".format(suite_case))"
   ]
  },
  {
   "cell_type": "markdown",
   "metadata": {},
   "source": [
    "## Functions Definition"
   ]
  },
  {
   "cell_type": "code",
   "execution_count": 60,
   "metadata": {},
   "outputs": [],
   "source": [
    "ui = UIHelper(instance)"
   ]
  },
  {
   "cell_type": "markdown",
   "metadata": {},
   "source": [
    "### Main Function Begin\n",
    "def main(args):"
   ]
  },
  {
   "cell_type": "code",
   "execution_count": 81,
   "metadata": {},
   "outputs": [
    {
     "name": "stdout",
     "output_type": "stream",
     "text": [
      "[INFO] Mode: windows\n",
      "[INFO] Base Url: http://211.25.204.108:30002/\n",
      "[INFO] User Name: zong.xian.soh@adv-fusionex.com\n"
     ]
    }
   ],
   "source": [
    "mode = config[\"web\"][\"mode\"]\n",
    "base_url = config[\"web\"][\"base_url\"]\n",
    "timeout = config[\"web\"][\"timeout\"]\n",
    "user_name = config[\"web\"][\"user_name\"]\n",
    "password = config[\"web\"][\"password\"]\n",
    "# company_short_name = config[\"data\"][\"company_short_name\"]\n",
    "company_name = config[\"data\"][\"company_name\"]\n",
    "\n",
    "if mode == \"windows\":\n",
    "    driver_path = \"../../../library/drivers/chrome/win/chromedriver.exe\"\n",
    "else:\n",
    "    driver_path = \"../../../library/drivers/chrome/mac/chromedriver\"\n",
    "    \n",
    "logger.info(\"Mode: {}\".format(mode))\n",
    "logger.info(\"Base Url: {}\".format(base_url))\n",
    "logger.info(\"User Name: {}\".format(user_name))"
   ]
  },
  {
   "cell_type": "code",
   "execution_count": 82,
   "metadata": {},
   "outputs": [
    {
     "name": "stdout",
     "output_type": "stream",
     "text": [
      "TestEngine: WebDriver created!\n",
      "Mode: windows\n",
      "Driver Path: ../../../library/drivers/chrome/win/chromedriver.exe\n",
      "Timeout: 10\n"
     ]
    }
   ],
   "source": [
    "# Get web page\n",
    "\n",
    "instance = TestEngine(mode=\"windows\", driver_path=driver_path, timeout=timeout)\n",
    "instance.get_driver().get(base_url)"
   ]
  },
  {
   "cell_type": "markdown",
   "metadata": {},
   "source": [
    "<a id='top'></a>\n",
    "## Table of contents\n",
    "- <a href='#data_load'>Load Test Data</a>\n",
    "- <a href='#login'>Login</a>\n",
    "- <a href='#testcases'>Item - Test Cases</a>\n"
   ]
  },
  {
   "cell_type": "markdown",
   "metadata": {},
   "source": [
    "<a id='login'></a>\n",
    "### Login\n",
    "<a href='#top'>top</a>"
   ]
  },
  {
   "cell_type": "code",
   "execution_count": 83,
   "metadata": {},
   "outputs": [],
   "source": [
    "ui = UIHelper(instance)\n",
    "ui.login(user_name=user_name, password=password)"
   ]
  },
  {
   "cell_type": "markdown",
   "metadata": {},
   "source": [
    "<a id='data_load'></a>\n",
    "### Load Test Data\n",
    "<a href='#top'>top</a>"
   ]
  },
  {
   "cell_type": "code",
   "execution_count": 84,
   "metadata": {},
   "outputs": [],
   "source": [
    "# Load sample data\n",
    "data_path =  f\"../data/{suite_case}/inventory.json\"\n",
    "data = ui.load_data(data_path)\n",
    "\n",
    "\n",
    "items = data[\"items\"]"
   ]
  },
  {
   "cell_type": "markdown",
   "metadata": {},
   "source": [
    "<a id='testcases'></a>\n",
    "### Item - Test Cases\n",
    "<a href='#top'>top</a>"
   ]
  },
  {
   "cell_type": "code",
   "execution_count": 85,
   "metadata": {},
   "outputs": [
    {
     "name": "stderr",
     "output_type": "stream",
     "text": [
      "test_items (test_ui_item.TestUIItems) ... "
     ]
    },
    {
     "name": "stdout",
     "output_type": "stream",
     "text": [
      "{'name': 'Printer', 'description': 'Frago Printer', 'sale_price': 400, 'purchase_price': 400, 'category': 'Office Equipment', 'tax': '', 'enabled': 'Yes'}\n",
      "{'name': 'Chair - Meeting', 'description': '', 'sale_price': 400, 'purchase_price': 400, 'category': 'Furniture & Fittings', 'tax': 'SST (6%)', 'enabled': 'Yes'}\n",
      "{'name': 'Chair - Work Station', 'description': '', 'sale_price': 400, 'purchase_price': 400, 'category': 'Furniture & Fittings', 'tax': '', 'enabled': 'Yes'}\n",
      "{'name': 'Table - Meeting Room', 'description': '', 'sale_price': 1000, 'purchase_price': 1000, 'category': 'Furniture & Fittings', 'tax': '', 'enabled': 'Yes'}\n",
      "{'name': 'Table - Work Station', 'description': '', 'sale_price': 700, 'purchase_price': 700, 'category': 'Furniture & Fittings', 'tax': '', 'enabled': 'Yes'}\n",
      "{'name': 'Water Dispenser', 'description': '', 'sale_price': 1000, 'purchase_price': 1000, 'category': 'Furniture & Fittings', 'tax': '', 'enabled': 'Yes'}\n",
      "{'name': 'Insurance', 'description': '', 'sale_price': 5000, 'purchase_price': 5000, 'category': 'Wellfare', 'tax': '', 'enabled': 'Yes'}\n",
      "{'name': 'Advertisement', 'description': '', 'sale_price': 8000, 'purchase_price': 8000, 'category': 'Marketing', 'tax': '', 'enabled': 'Yes'}\n",
      "{'name': 'GIANT Accounting', 'description': '', 'sale_price': 8000, 'purchase_price': 8000, 'category': 'Software', 'tax': '', 'enabled': 'Yes'}\n",
      "{'name': 'MS Office', 'description': '', 'sale_price': 8000, 'purchase_price': 8000, 'category': 'Software', 'tax': '', 'enabled': 'Yes'}\n",
      "{'name': 'AliCloud', 'description': '', 'sale_price': 20000, 'purchase_price': 20000, 'category': 'Cloud Subscription', 'tax': '', 'enabled': 'Yes'}\n",
      "{'name': 'Google Cloud', 'description': '', 'sale_price': 20000, 'purchase_price': 20000, 'category': 'Cloud Subscription', 'tax': '', 'enabled': 'Yes'}\n",
      "{'name': 'Server 1', 'description': '', 'sale_price': 12000, 'purchase_price': 12000, 'category': 'Server', 'tax': '', 'enabled': 'Yes'}\n",
      "{'name': 'Server 2', 'description': '', 'sale_price': 12000, 'purchase_price': 12000, 'category': 'Server', 'tax': '', 'enabled': 'Yes'}\n"
     ]
    },
    {
     "name": "stderr",
     "output_type": "stream",
     "text": [
      "ok\n",
      "\n",
      "----------------------------------------------------------------------\n",
      "Ran 1 test in 164.859s\n",
      "\n",
      "OK\n"
     ]
    }
   ],
   "source": [
    "suite = unittest.TestSuite()\n",
    "suite.addTest(TestUIItems(\"test_items\", instance, items=items))\n",
    "result = unittest.TextTestRunner(failfast=True, verbosity=2).run(suite)"
   ]
  },
  {
   "cell_type": "code",
   "execution_count": null,
   "metadata": {},
   "outputs": [],
   "source": [
    "instance.close()"
   ]
  },
  {
   "cell_type": "code",
   "execution_count": 44,
   "metadata": {},
   "outputs": [
    {
     "data": {
      "text/plain": [
       "'400'"
      ]
     },
     "execution_count": 44,
     "metadata": {},
     "output_type": "execute_result"
    }
   ],
   "source": [
    "element = instance.get_element((By.XPATH,'//div[@class=\"card-body\"]//div[contains(@class, \"form-group\") and .//*[text()[contains(., \"Sale Price\")]]]//input'))\n",
    "element.click()\n",
    "element.get_attribute(\"value\")"
   ]
  },
  {
   "cell_type": "code",
   "execution_count": null,
   "metadata": {},
   "outputs": [],
   "source": [
    "instance.close()"
   ]
  }
 ],
 "metadata": {
  "anaconda-cloud": {},
  "kernelspec": {
   "display_name": "Python 3",
   "language": "python",
   "name": "python3"
  },
  "language_info": {
   "codemirror_mode": {
    "name": "ipython",
    "version": 3
   },
   "file_extension": ".py",
   "mimetype": "text/x-python",
   "name": "python",
   "nbconvert_exporter": "python",
   "pygments_lexer": "ipython3",
   "version": "3.6.12"
  }
 },
 "nbformat": 4,
 "nbformat_minor": 4
}
