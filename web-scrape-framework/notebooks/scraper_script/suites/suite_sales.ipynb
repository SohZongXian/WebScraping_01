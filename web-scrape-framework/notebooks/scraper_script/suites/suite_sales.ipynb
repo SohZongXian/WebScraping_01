{
 "cells": [
  {
   "cell_type": "markdown",
   "metadata": {},
   "source": [
    "# Suite: Sales\n",
    "Using Library Python Selenium to test the web site"
   ]
  },
  {
   "cell_type": "code",
   "execution_count": 1,
   "metadata": {},
   "outputs": [],
   "source": [
    "# ####### DEBUG ONLY #######\n",
    "# ####### Load the \"autoreload\" extension #######\n",
    "%load_ext autoreload\n",
    "# ####### always reload modules marked with \"%import\" #######\n",
    "%autoreload 2\n",
    "\n",
    "import os\n",
    "import sys\n",
    "\n",
    "sys.path.append(\"../config\")\n",
    "sys.path.append(\"../util\")\n",
    "sys.path.append(\"../tests\")\n",
    "sys.path.append(\"../../library/util\")"
   ]
  },
  {
   "cell_type": "code",
   "execution_count": 2,
   "metadata": {},
   "outputs": [],
   "source": [
    "# Importing packages\n",
    "from config import config\n",
    "from datetime import datetime, timedelta\n",
    "import json\n",
    "import logging\n",
    "import logging.config\n",
    "import pathlib\n",
    "from pprint import pprint\n",
    "import web_driver\n",
    "from web_driver import WebDriver\n",
    "import time\n",
    "\n",
    "from selenium.common.exceptions import StaleElementReferenceException, TimeoutException, ElementClickInterceptedException\n",
    "from selenium.webdriver.common.action_chains import ActionChains\n",
    "from selenium.webdriver.common.by import By\n",
    "from selenium.webdriver.support import expected_conditions\n",
    "from selenium.webdriver.support.ui import Select, WebDriverWait\n",
    "from selenium.webdriver.common.keys import Keys\n",
    "\n",
    "import unittest\n",
    "from ui_helper import UIHelper"
   ]
  },
  {
   "cell_type": "markdown",
   "metadata": {},
   "source": [
    "## Variables Declaration"
   ]
  },
  {
   "cell_type": "code",
   "execution_count": 3,
   "metadata": {},
   "outputs": [
    {
     "name": "stdout",
     "output_type": "stream",
     "text": [
      "[INFO] Test Suite: suite_sales\n",
      "[INFO] Suite Case: suite_02\n"
     ]
    }
   ],
   "source": [
    "log_config = \"../config/logging.conf\"\n",
    "\n",
    "# # Create folder \"logs\"\n",
    "# pathlib.Path('../logs').mkdir(exist_ok=True)  \n",
    "# logging.log_file = datetime.now().strftime('../logs/log_%Y%m%d_%H%M%S.log')\n",
    "logging.config.fileConfig(log_config, disable_existing_loggers=False)\n",
    "logger = logging.getLogger(__name__)\n",
    "\n",
    "suite_name = \"suite_sales\"\n",
    "suite_case = \"suite_02\"\n",
    "logger.info(\"Test Suite: {}\".format(suite_name))\n",
    "logger.info(\"Suite Case: {}\".format(suite_case))"
   ]
  },
  {
   "cell_type": "markdown",
   "metadata": {},
   "source": [
    "## Functions Definition"
   ]
  },
  {
   "cell_type": "code",
   "execution_count": null,
   "metadata": {},
   "outputs": [],
   "source": []
  },
  {
   "cell_type": "markdown",
   "metadata": {},
   "source": [
    "### Main Function Begin\n",
    "def main(args):"
   ]
  },
  {
   "cell_type": "code",
   "execution_count": 4,
   "metadata": {},
   "outputs": [
    {
     "name": "stdout",
     "output_type": "stream",
     "text": [
      "[INFO] Mode: windows\n",
      "[INFO] Base Url: http://211.25.204.108:30002\n",
      "[INFO] User Name: zong.xian.soh@adv-fusionex.com\n"
     ]
    }
   ],
   "source": [
    "mode = config[\"web\"][\"mode\"]\n",
    "base_url = config[\"web\"][\"base_url\"]\n",
    "timeout = config[\"web\"][\"timeout\"]\n",
    "user_name = config[\"web\"][\"user_name\"]\n",
    "password = config[\"web\"][\"password\"]\n",
    "company_short_name = config[\"data\"][\"company_short_name\"]\n",
    "company_name = config[\"data\"][\"company_name\"]\n",
    "\n",
    "if mode == \"windows\":\n",
    "    driver_path = \"../../library/drivers/chrome/win/chromedriver.exe\"\n",
    "else:\n",
    "    driver_path = \"../../library/drivers/chrome/mac/chromedriver\"\n",
    "    \n",
    "logger.info(\"Mode: {}\".format(mode))\n",
    "logger.info(\"Base Url: {}\".format(base_url))\n",
    "logger.info(\"User Name: {}\".format(user_name))"
   ]
  },
  {
   "cell_type": "code",
   "execution_count": 5,
   "metadata": {},
   "outputs": [
    {
     "name": "stdout",
     "output_type": "stream",
     "text": [
      "WebDriver created!\n",
      "Mode: windows\n",
      "Driver Path: ../../library/drivers/chrome/win/chromedriver.exe\n",
      "Timeout: 10\n"
     ]
    }
   ],
   "source": [
    "# Get web page\n",
    "instance = WebDriver(mode=\"windows\", driver_path=driver_path, timeout=timeout)\n",
    "instance.get_driver().get(base_url)"
   ]
  },
  {
   "cell_type": "markdown",
   "metadata": {},
   "source": [
    "<a id='top'></a>\n",
    "## Table of contents\n",
    "- <a href='#data_load'>Load Test Data</a>\n",
    "- <a href='#login'>Login</a>\n",
    "- <a href='#switch_company'>Switch Company</a>\n",
    "- <a href='#invoices'>Sales - Invoices</a>\n",
    "- <a href='#revenues'>Sales - Revenues</a>\n",
    "- <a href='#credit_notes'>Sales - Credit Notes</a>\n",
    "- <a href='#customers'>Customers</a>\n",
    "- <a href='#collections'>Collections</a>"
   ]
  },
  {
   "cell_type": "markdown",
   "metadata": {},
   "source": [
    "<a id='login'></a>\n",
    "### Login\n",
    "<a href='#top'>top</a>"
   ]
  },
  {
   "cell_type": "code",
   "execution_count": 8,
   "metadata": {},
   "outputs": [],
   "source": [
    "ui = UIHelper(instance)\n",
    "ui.login(user_name=user_name, password=password)"
   ]
  },
  {
   "cell_type": "markdown",
   "metadata": {},
   "source": [
    "<a id='data_load'></a>\n",
    "### Load Test Data\n",
    "<a href='#top'>top</a>"
   ]
  },
  {
   "cell_type": "code",
   "execution_count": null,
   "metadata": {},
   "outputs": [],
   "source": [
    "# Load sample data\n",
    "data_path =  f\"../data/{suite_case}/sales.json\"\n",
    "data = ui.load_data(data_path)\n",
    "\n",
    "\n",
    "invoices = data[\"invoices\"]\n",
    "revenues = data[\"revenues\"]\n",
    "credit_notes = data[\"credit_notes\"]\n",
    "customers = data[\"customers\"]\n",
    "collections = data[\"collections\"]"
   ]
  },
  {
   "cell_type": "markdown",
   "metadata": {},
   "source": [
    "<a id='switch_company'></a>\n",
    "### Switch Company\n",
    "<a href='#top'>top</a>"
   ]
  },
  {
   "cell_type": "code",
   "execution_count": null,
   "metadata": {},
   "outputs": [],
   "source": [
    "ui.switch_company(company_name)"
   ]
  },
  {
   "cell_type": "markdown",
   "metadata": {},
   "source": [
    "<a id='invoices'></a>\n",
    "### Sales - Invoices\n",
    "<a href='#top'>top</a>"
   ]
  },
  {
   "cell_type": "code",
   "execution_count": null,
   "metadata": {},
   "outputs": [],
   "source": [
    "ui.click_side_menu(\"Sales\", \"Invoices\")"
   ]
  },
  {
   "cell_type": "code",
   "execution_count": null,
   "metadata": {},
   "outputs": [],
   "source": [
    "for invoice in invoices:\n",
    "    ui.click_add()\n",
    "    ui.select_dropdown(\"Customer\", invoice[\"customer\"])\n",
    "    ui.select_dropdown(\"Currency\", invoice[\"currency\"])\n",
    "    ui.select_date_picker(\"Invoice Date\", invoice[\"invoiced_at\"])\n",
    "    ui.enter_text((By.ID, \"invoice_number\"), invoice[\"invoice_number\"])\n",
    "    ui.enter_text((By.ID, \"order_number\"), invoice[\"order_number\"])\n",
    "    \n",
    "    locator = (By.XPATH, '//div[@class=\"card-body\"]//div[contains(@class, \"col-sm-12 mb-4\") and .//*[text()[contains(., \"Items\")]]]')\n",
    "    elements = instance.find_elements(locator)\n",
    "    # to make Items visible\n",
    "    instance.scroll_to_element(elements[0])\n",
    "    for i in range(len(invoice[\"items\"])):\n",
    "        account_type = invoice[\"items\"][i][\"account_type\"]\n",
    "        name = invoice[\"items\"][i][\"name\"]\n",
    "        quantity = invoice[\"items\"][i][\"quantity\"]\n",
    "        # Select Account Type\n",
    "        instance.click_element((By.XPATH, f'.//tbody/tr[{i+1}]/td[2]//span[@class=\"el-input__prefix\"]'))\n",
    "        locator = (By.XPATH, f'//div[@class=\"el-select-dropdown el-popper\" and not(contains(@style, \"display: none\"))]//li[.//*[text()=\"{account_type}\"]]') \n",
    "        instance.click_element(locator)\n",
    "        # Select Name\n",
    "        instance.click_element((By.XPATH, f'.//tbody/tr[{i+1}]/td[3]//span[@class=\"el-input__prefix\"]'))\n",
    "        locator = (By.XPATH, f'//div[@class=\"el-select-dropdown el-popper\" and not(contains(@style, \"display: none\"))]//li[.//*[text()=\"{name}\"]]') \n",
    "        instance.click_element(locator)\n",
    "        # Insert Quantity\n",
    "        ui.enter_text((By.NAME, f\"items.{i}.quantity\"), str(quantity))\n",
    "    # Add discount\n",
    "    instance.click_element((By.XPATH, './/tr[@id=\"tr-discount\"]/td/span//span[@class=\"el-link--inner\"]'))\n",
    "    instance.enter_text((By.XPATH, './/input[@id=\"pre-discount\"]'), invoice[\"discount_rate\"])\n",
    "    instance.click_element((By.XPATH, './/button[@id=\"save-discount\"]'))\n",
    "    instance.scroll_down()\n",
    "    # Select Category\n",
    "    ui.select_dropdown(\"Category\", invoice[\"category\"])\n",
    "    ui.click_save()\n",
    "    instance.wait(5)\n",
    "    if invoice[\"status\"] == \"paid\":\n",
    "        # Add payment between here\n",
    "        instance.click_element((By.ID, \"button-payment\"))\n",
    "        instance.wait(2)\n",
    "        instance.click_element((By.XPATH, f'.//div[@class=\"row\"]//div[contains(@class, \"form-group\") and .//*[text()[contains(., \"Account\")]]]'))\n",
    "        instance.wait(2)\n",
    "        locator = (By.XPATH, f'//div[@class=\"el-select-dropdown el-popper\" and not(contains(@style, \"display: none\"))]//li[.//*[text()=\"{invoice[\"account\"]}\"]]')\n",
    "        instance.click_element(locator)\n",
    "        instance.wait(3)\n",
    "        instance.click_element((By.XPATH, f'.//div[@class=\"row\"]//div[contains(@class, \"form-group\") and .//*[text()[contains(., \"Payment Method\")]]]'))\n",
    "        locator = (By.XPATH, f'//div[@class=\"el-select-dropdown el-popper\" and not(contains(@style, \"display: none\"))]//li[.//*[text()=\"{invoice[\"payment\"]}\"]]') \n",
    "        instance.click_element(locator)\n",
    "        ui.enter_text((By.NAME, \"description\"), invoice[\"description\"])\n",
    "        ui.enter_text((By.ID, \"reference\"), invoice[\"reference\"])\n",
    "        locator = (By.XPATH, './/button[contains(@class, \"btn button-submit btn-success\")]')\n",
    "        instance.click_element(locator)\n",
    "        instance.wait(5)\n",
    "    else:\n",
    "        instance.click_element((By.XPATH, f'//div[@class=\"mt-3\"]//*[text()[contains(., \"Mark Sent\")]]'))\n",
    "        instance.wait(2)\n",
    "        \n",
    "    instance.click_element((By.XPATH, f'//a[@class=\"nav-link active\"]//*[text()[contains(., \"Invoices\")]]'))\n",
    "    instance.wait(2)"
   ]
  },
  {
   "cell_type": "markdown",
   "metadata": {},
   "source": [
    "<a id='revenues'></a>\n",
    "### Sales - Revenues\n",
    "<a href='#top'>top</a>"
   ]
  },
  {
   "cell_type": "code",
   "execution_count": null,
   "metadata": {},
   "outputs": [],
   "source": [
    "ui.click_side_menu(\"Sales\", \"Revenues\")"
   ]
  },
  {
   "cell_type": "code",
   "execution_count": null,
   "metadata": {},
   "outputs": [],
   "source": [
    "for revenue in revenues:\n",
    "    ui.click_add()\n",
    "    ui.select_date_picker(\"Date\", revenue[\"date\"])\n",
    "    ui.enter_text((By.NAME, \"amount\"), str(revenue[\"amount\"]) + \"0000\")\n",
    "    ui.select_dropdown(\"Account\", revenue[\"account\"])\n",
    "    ui.select_dropdown(\"Customer\", revenue[\"customer\"])\n",
    "    instance.scroll_down()\n",
    "    ui.select_dropdown(\"Category\", revenue[\"category\"])\n",
    "    ui.select_dropdown(\"Recurring\", revenue[\"recurring\"])\n",
    "    ui.select_dropdown(\"Payment Method\", revenue[\"payment_method\"])\n",
    "    \n",
    "    ui.click_save()\n",
    "    instance.wait(5)"
   ]
  },
  {
   "cell_type": "markdown",
   "metadata": {},
   "source": [
    "<a id='credit_notes'></a>\n",
    "### Credit Notes\n",
    "<a href='#top'>top</a>"
   ]
  },
  {
   "cell_type": "code",
   "execution_count": null,
   "metadata": {},
   "outputs": [],
   "source": [
    "ui.click_side_menu(\"Sales\", \"Credit Notes\")"
   ]
  },
  {
   "cell_type": "code",
   "execution_count": null,
   "metadata": {},
   "outputs": [],
   "source": [
    "for credit_note in credit_notes:\n",
    "    ui.click_add()\n",
    "    instance.wait(2)\n",
    "    ui.select_dropdown(\"Customer\", credit_note[\"customer\"])\n",
    "    ui.select_dropdown(\"Currency\", credit_note[\"currency\"])\n",
    "    ui.select_date_picker(\"Credit Note Date\", credit_note[\"credit_at\"])\n",
    "    ui.enter_text((By.ID, \"credit_note_number\"), credit_note[\"credit_note_number\"])\n",
    "    ui.select_dropdown(\"Invoice\", credit_note[\"invoice_number\"])\n",
    "\n",
    "    locator = (By.XPATH, '//div[@class=\"card-body\"]//div[contains(@class, \"col-sm-12 mb-4\") and .//*[text()[contains(., \"Items\")]]]')\n",
    "    elements = instance.find_elements(locator)\n",
    "    # to make Items visible\n",
    "    instance.scroll_to_element(elements[0])\n",
    "    for i in range(len(credit_note[\"items\"])):\n",
    "        name = credit_note[\"items\"][i][\"name\"]\n",
    "        quantity = credit_note[\"items\"][i][\"quantity\"]\n",
    "        # Select Name\n",
    "        instance.click_element((By.XPATH, f'.//tbody/tr[{i+1}]/td[2]//span[@class=\"el-input__prefix\"]'))\n",
    "        locator = (By.XPATH, f'//div[@class=\"el-select-dropdown el-popper\" and not(contains(@style, \"display: none\"))]//li[.//*[text()=\"{name}\"]]') \n",
    "        instance.click_element(locator)\n",
    "        # Insert Quantity\n",
    "        ui.enter_text((By.NAME, f\"items.{i}.quantity\"), str(quantity))\n",
    "    # Add Discount\n",
    "    instance.click_element((By.XPATH, './/tr[@id=\"tr-discount\"]/td/span//span[@class=\"el-link--inner\"]'))\n",
    "    instance.enter_text((By.XPATH, './/input[@id=\"pre-discount\"]'), credit_note[\"discount_rate\"])\n",
    "    instance.click_element((By.XPATH, './/button[@id=\"save-discount\"]'))\n",
    "    instance.scroll_down()\n",
    "    # Select Category\n",
    "    ui.select_dropdown(\"Category\", credit_note[\"category\"])\n",
    "    ui.click_save()\n",
    "    instance.wait(5)\n",
    "    instance.click_element((By.XPATH, f'//a[@class=\"nav-link active\"]//*[text()[contains(., \"Credit Notes\")]]'))\n",
    "    instance.wait(2)"
   ]
  },
  {
   "cell_type": "markdown",
   "metadata": {},
   "source": [
    "<a id='customers'></a>\n",
    "### Sales - Customers\n",
    "<a href='#top'>top</a>"
   ]
  },
  {
   "cell_type": "code",
   "execution_count": null,
   "metadata": {},
   "outputs": [],
   "source": [
    "ui.click_side_menu(\"Sales\", \"Customers\")"
   ]
  },
  {
   "cell_type": "code",
   "execution_count": null,
   "metadata": {},
   "outputs": [],
   "source": [
    "for customer in customers:\n",
    "    locator = (By.XPATH, f'.//tbody/tr[contains(@class, \"row\") and .//a[contains(text(), \"{customer[\"name\"]}\")]]')\n",
    "    elements = instance.find_elements(locator)\n",
    "    \n",
    "    if len(elements) > 0:\n",
    "        logger.info(f\"Found: {customer['name']}\")\n",
    "        instance.scroll_to_element(elements[0])\n",
    "        ui.click_edit(elements[0])\n",
    "    else:\n",
    "        logger.info(f\"Not Found: {customer['name']}\")\n",
    "        ui.click_add()\n",
    "\n",
    "    ui.enter_text((By.ID, \"name\"), customer[\"name\"])\n",
    "    ui.enter_text((By.ID, \"email\"), customer[\"email\"])\n",
    "    ui.enter_text((By.ID, \"tax_number\"), customer[\"tax\"])\n",
    "    ui.select_dropdown(\"Currency\", customer[\"currency\"])\n",
    "    ui.enter_text((By.ID, \"phone\"), customer[\"phone\"])\n",
    "    ui.enter_text((By.ID, \"website\"), customer[\"website\"])\n",
    "    ui.enter_text((By.ID, \"address\"), customer[\"address\"])\n",
    "    ui.enter_text((By.ID, \"reference\"), customer[\"reference\"])\n",
    "    instance.scroll_down()\n",
    "    ui.click_save()\n",
    "    instance.wait(5)\n",
    "    instance.click_element((By.XPATH, f'//a[@class=\"nav-link active\"]//*[text()[contains(., \"Customers\")]]'))\n",
    "    instance.wait(2)"
   ]
  },
  {
   "cell_type": "code",
   "execution_count": null,
   "metadata": {},
   "outputs": [],
   "source": [
    "instance.close()"
   ]
  },
  {
   "cell_type": "markdown",
   "metadata": {},
   "source": [
    "<a id='collections'></a>\n",
    "### Sales - Collections\n",
    "<a href='#top'>top</a>"
   ]
  },
  {
   "cell_type": "code",
   "execution_count": null,
   "metadata": {},
   "outputs": [],
   "source": [
    "ui.click_side_menu(\"Sales\", \"Collections\")"
   ]
  },
  {
   "cell_type": "code",
   "execution_count": null,
   "metadata": {},
   "outputs": [],
   "source": [
    "for collection in collections:\n",
    "    ui.click_add()\n",
    "    instance.wait(2)\n",
    "    ui.select_date_picker(\"Date\", collection[\"date\"])\n",
    "    ui.enter_text((By.NAME, \"amount\"), str(collection[\"amount\"]))\n",
    "    ui.select_dropdown(\"Account\", collection[\"account\"])\n",
    "    ui.select_dropdown(\"Customer\", collection[\"customer\"])\n",
    "    ui.enter_text((By.NAME, \"description\"), collection[\"description\"])\n",
    "    instance.scroll_down()\n",
    "    ui.select_dropdown(\"Category\", collection[\"category\"])\n",
    "    ui.select_dropdown(\"Payment Method\", collection[\"payment\"])\n",
    "    ui.enter_text((By.ID, \"reference\"), collection[\"reference\"])\n",
    "    ui.click_save()\n",
    "    instance.wait(5)\n",
    "    instance.click_element((By.XPATH, f'//a[@class=\"nav-link active\"]//*[text()[contains(., \"Collections\")]]'))\n",
    "    instance.wait(2)"
   ]
  },
  {
   "cell_type": "code",
   "execution_count": null,
   "metadata": {},
   "outputs": [],
   "source": [
    "instance.close()"
   ]
  }
 ],
 "metadata": {
  "anaconda-cloud": {},
  "kernelspec": {
   "display_name": "Python 3",
   "language": "python",
   "name": "python3"
  },
  "language_info": {
   "codemirror_mode": {
    "name": "ipython",
    "version": 3
   },
   "file_extension": ".py",
   "mimetype": "text/x-python",
   "name": "python",
   "nbconvert_exporter": "python",
   "pygments_lexer": "ipython3",
   "version": "3.6.12"
  }
 },
 "nbformat": 4,
 "nbformat_minor": 4
}
