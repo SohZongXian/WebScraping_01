{
 "cells": [
  {
   "cell_type": "markdown",
   "metadata": {},
   "source": [
    "# Suite: Double Entry\n",
    "Using Library Python Selenium to test the web site"
   ]
  },
  {
   "cell_type": "code",
   "execution_count": null,
   "metadata": {},
   "outputs": [],
   "source": [
    "# ####### DEBUG ONLY #######\n",
    "# ####### Load the \"autoreload\" extension #######\n",
    "%load_ext autoreload\n",
    "# ####### always reload modules marked with \"%import\" #######\n",
    "%autoreload 2\n",
    "\n",
    "import os\n",
    "import sys\n",
    "\n",
    "sys.path.append(\"../config\")\n",
    "sys.path.append(\"../util\")\n",
    "sys.path.append(\"../tests\")"
   ]
  },
  {
   "cell_type": "code",
   "execution_count": null,
   "metadata": {},
   "outputs": [],
   "source": [
    "# Importing packages\n",
    "from config import config\n",
    "from datetime import datetime, timedelta\n",
    "import json\n",
    "import logging\n",
    "import logging.config\n",
    "import pathlib\n",
    "from pprint import pprint\n",
    "from web_driver import WebDriver\n",
    "import time\n",
    "import fx_test\n",
    "from fx_test import TestEngine\n",
    "\n",
    "from selenium.common.exceptions import StaleElementReferenceException, TimeoutException, ElementClickInterceptedException\n",
    "from selenium.webdriver.common.action_chains import ActionChains\n",
    "from selenium.webdriver.common.by import By\n",
    "from selenium.webdriver.support import expected_conditions\n",
    "from selenium.webdriver.support.ui import Select, WebDriverWait\n",
    "from selenium.webdriver.common.keys import Keys\n",
    "\n",
    "import unittest\n",
    "from ui_helper import UIHelper"
   ]
  },
  {
   "cell_type": "markdown",
   "metadata": {},
   "source": [
    "## Variables Declaration"
   ]
  },
  {
   "cell_type": "code",
   "execution_count": null,
   "metadata": {},
   "outputs": [],
   "source": [
    "log_config = \"../config/logging.conf\"\n",
    "\n",
    "# # Create folder \"logs\"\n",
    "# pathlib.Path('../logs').mkdir(exist_ok=True)  \n",
    "# logging.log_file = datetime.now().strftime('../logs/log_%Y%m%d_%H%M%S.log')\n",
    "logging.config.fileConfig(log_config, disable_existing_loggers=False)\n",
    "logger = logging.getLogger(__name__)\n",
    "\n",
    "suite_name = \"suite_double_entry\"\n",
    "suite_case = \"suite_01\"\n",
    "logger.info(\"Test Suite: {}\".format(suite_name))\n",
    "logger.info(\"Suite Case: {}\".format(suite_case))"
   ]
  },
  {
   "cell_type": "markdown",
   "metadata": {},
   "source": [
    "## Functions Definition"
   ]
  },
  {
   "cell_type": "code",
   "execution_count": null,
   "metadata": {},
   "outputs": [],
   "source": []
  },
  {
   "cell_type": "markdown",
   "metadata": {},
   "source": [
    "### Main Function Begin\n",
    "def main(args):"
   ]
  },
  {
   "cell_type": "code",
   "execution_count": null,
   "metadata": {},
   "outputs": [],
   "source": [
    "mode = config[\"web\"][\"mode\"]\n",
    "base_url = config[\"web\"][\"base_url\"]\n",
    "timeout = config[\"web\"][\"timeout\"]\n",
    "user_name = config[\"web\"][\"user_name\"]\n",
    "password = config[\"web\"][\"password\"]\n",
    "\n",
    "if mode == \"windows\":\n",
    "    driver_path = \"../../../library/drivers/chrome/win/chromedriver.exe\"\n",
    "else:\n",
    "    driver_path = \"../../../library/drivers/chrome/mac/chromedriver\"\n",
    "    \n",
    "logger.info(\"Mode: {}\".format(mode))\n",
    "logger.info(\"Base Url: {}\".format(base_url))\n",
    "logger.info(\"User Name: {}\".format(user_name))"
   ]
  },
  {
   "cell_type": "code",
   "execution_count": null,
   "metadata": {},
   "outputs": [],
   "source": [
    "# Get web page\n",
    "instance = TestEngine(mode=\"windows\", driver_path=\"../../../library/drivers/chrome/win/chromedriver.exe\", timeout=30)\n",
    "instance.get_driver().get(base_url)"
   ]
  },
  {
   "cell_type": "markdown",
   "metadata": {},
   "source": [
    "<a id='top'></a>\n",
    "## Table of contents\n",
    "- <a href='#data_load'>Load Test Data</a>\n",
    "- <a href='#login'>Login</a>\n",
    "- <a href='#switch_company'>Switch Company</a>\n",
    "- <a href='#chart_of_accounts'>Chart of Accounts</a>\n",
    "- <a href='#journal_entry'>Journal Entry</a>"
   ]
  },
  {
   "cell_type": "markdown",
   "metadata": {},
   "source": [
    "<a id='login'></a>\n",
    "### Login\n",
    "<a href='#top'>top</a>"
   ]
  },
  {
   "cell_type": "code",
   "execution_count": null,
   "metadata": {},
   "outputs": [],
   "source": [
    "ui = UIHelper(instance, user_name=user_name, password=password)\n",
    "ui.login()"
   ]
  },
  {
   "cell_type": "markdown",
   "metadata": {},
   "source": [
    "<a id='data_load'></a>\n",
    "### Load Test Data\n",
    "<a href='#top'>top</a>"
   ]
  },
  {
   "cell_type": "code",
   "execution_count": null,
   "metadata": {},
   "outputs": [],
   "source": [
    "# Load sample data\n",
    "data_path =  f\"../data/{suite_case}/double_entry.json\"\n",
    "data = ui.load_data(data_path)\n",
    "    \n",
    "company_name = data[\"company_short_name\"]\n",
    "chart_of_accounts = data[\"chart_of_accounts\"]\n",
    "journal_entries = data[\"journal_entries\"]"
   ]
  },
  {
   "cell_type": "markdown",
   "metadata": {},
   "source": [
    "<a id='switch_company'></a>\n",
    "### Switch Company\n",
    "<a href='#top'>top</a>"
   ]
  },
  {
   "cell_type": "code",
   "execution_count": null,
   "metadata": {},
   "outputs": [],
   "source": [
    "ui.switch_company(company_name)"
   ]
  },
  {
   "cell_type": "markdown",
   "metadata": {},
   "source": [
    "<a id='chart_of_accounts'></a>\n",
    "### Chart of Accounts\n",
    "<a href='#top'>top</a>"
   ]
  },
  {
   "cell_type": "code",
   "execution_count": null,
   "metadata": {},
   "outputs": [],
   "source": [
    "ui.click_side_menu(\"Double-Entry\", \"Chart of Accounts\")"
   ]
  },
  {
   "cell_type": "code",
   "execution_count": null,
   "metadata": {},
   "outputs": [],
   "source": [
    "for account in chart_of_accounts:\n",
    "    locator = (By.XPATH, f'.//tbody/tr[contains(@class, \"row\") and ./td[1 and text()=\"{account[\"code\"]}\"]]')\n",
    "    elements = instance.find_elements(locator)\n",
    "\n",
    "    if len(elements) > 0:\n",
    "        logger.info(f\"Found: {account['code']}\")\n",
    "        # scroll to the element \n",
    "        instance.scroll_to_element(elements[0])\n",
    "        ui.click_edit(elements[0])\n",
    "    else:\n",
    "        logger.info(f\"Not Found: {account['code']}\")\n",
    "        ui.click_add()\n",
    "        \n",
    "    ui.enter_text((By.ID, \"name\"), account[\"name\"])\n",
    "    ui.enter_text((By.ID, \"code\"), account[\"code\"])\n",
    "    ui.select_dropdown(\"Type\", account[\"type\"])\n",
    "    ui.enter_text((By.ID, \"description\"), account[\"description\"])\n",
    "    instance.scroll_down()\n",
    "    ui.select_toggle_button(\"Enabled\", account[\"enabled\"])\n",
    "    \n",
    "    ui.click_save()\n",
    "    instance.wait(5)"
   ]
  },
  {
   "cell_type": "markdown",
   "metadata": {},
   "source": [
    "<a id='journal_entry'></a>\n",
    "### Journal Entry\n",
    "<a href='#top'>top</a>"
   ]
  },
  {
   "cell_type": "code",
   "execution_count": null,
   "metadata": {},
   "outputs": [],
   "source": [
    "ui.click_side_menu(\"Double-Entry\", \"Journal Entry\")"
   ]
  },
  {
   "cell_type": "code",
   "execution_count": null,
   "metadata": {},
   "outputs": [],
   "source": [
    "for journal in journal_entries:\n",
    "    #select \"Add New\" button\n",
    "    ui.click_add()\n",
    "    ui.select_date_picker(\"Date\", journal[\"date\"])\n",
    "    ui.enter_text((By.ID, \"reference\"), journal[\"reference\"])\n",
    "    ui.enter_text((By.ID, \"description\"), journal[\"description\"])\n",
    "    instance.scroll_down()\n",
    "    # Click \"add\" button for new items\n",
    "    instance.click_element((By.XPATH, './/button[@id=\"button-add-item\"]'))\n",
    "    \n",
    "    locator = (By.XPATH, '//div[@class=\"card-body\"]//div[contains(@class, \"col-md-12\") and .//*[text()[contains(., \"Items\")]]]')\n",
    "    elements = instance.find_elements(locator)\n",
    "    # to make Items visible\n",
    "    instance.scroll_to_element(elements[0])\n",
    "\n",
    "    for i in range(len(journal[\"items\"])):\n",
    "        account_type = journal[\"items\"][i][\"account\"]\n",
    "        instance.click_element((By.XPATH, f'.//tbody/tr[{i+1}]//span[@class=\"el-input__prefix\"]'))\n",
    "        xpath=f'.//div[@class=\"el-select-dropdown el-popper\" and not(contains(@style, \"display: none\"))]//li[2]//*[text()[contains(., \"{account_type}\")]]'\n",
    "        instance.click_element((By.XPATH, xpath))\n",
    "        if \"debit\" in journal[\"items\"][i]:\n",
    "            keyword = \"debit\"\n",
    "        else:\n",
    "            keyword = \"credit\"\n",
    "        if \".\" in str(journal[\"items\"][i][keyword]):\n",
    "            value = str(journal[\"items\"][i][keyword]) + \"000\"\n",
    "        else:\n",
    "            value = str(journal[\"items\"][i][keyword]) + \"0000\"\n",
    "        ui.enter_text((By.XPATH, f'.//tbody/tr[{i+1}]//input[@name=\"{keyword}\"]'), value)\n",
    "        # add new item\n",
    "        instance.click_element((By.ID, \"button-add-item\"))\n",
    "        instance.scroll_by(0, 50)\n",
    "    instance.scroll_down()\n",
    "    ui.click_save()\n",
    "    instance.wait(5)\n",
    "    break"
   ]
  },
  {
   "cell_type": "code",
   "execution_count": null,
   "metadata": {},
   "outputs": [],
   "source": [
    "instance.close()"
   ]
  }
 ],
 "metadata": {
  "anaconda-cloud": {},
  "kernelspec": {
   "display_name": "Python 3",
   "language": "python",
   "name": "python3"
  },
  "language_info": {
   "codemirror_mode": {
    "name": "ipython",
    "version": 3
   },
   "file_extension": ".py",
   "mimetype": "text/x-python",
   "name": "python",
   "nbconvert_exporter": "python",
   "pygments_lexer": "ipython3",
   "version": "3.6.10"
  }
 },
 "nbformat": 4,
 "nbformat_minor": 4
}
