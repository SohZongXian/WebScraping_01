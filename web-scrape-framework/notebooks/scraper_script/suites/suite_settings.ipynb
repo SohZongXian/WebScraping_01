{
 "cells": [
  {
   "cell_type": "markdown",
   "metadata": {},
   "source": [
    "# Suite: Settings\n",
    "Using Library Python Selenium to test the web site"
   ]
  },
  {
   "cell_type": "code",
   "execution_count": 19,
   "metadata": {},
   "outputs": [
    {
     "name": "stdout",
     "output_type": "stream",
     "text": [
      "The autoreload extension is already loaded. To reload it, use:\n",
      "  %reload_ext autoreload\n"
     ]
    }
   ],
   "source": [
    "# ####### DEBUG ONLY #######\n",
    "# ####### Load the \"autoreload\" extension #######\n",
    "%load_ext autoreload\n",
    "# ####### always reload modules marked with \"%import\" #######\n",
    "%autoreload 2\n",
    "\n",
    "import os\n",
    "import sys\n",
    "\n",
    "\n",
    "sys.path.append(\"../config\")\n",
    "sys.path.append(\"../util\")\n",
    "sys.path.append(\"../tests\")"
   ]
  },
  {
   "cell_type": "code",
   "execution_count": 20,
   "metadata": {},
   "outputs": [],
   "source": [
    "# Importing packages\n",
    "from config import config\n",
    "from datetime import datetime, timedelta\n",
    "import json\n",
    "import logging\n",
    "import logging.config\n",
    "import pathlib\n",
    "from pprint import pprint\n",
    "# from web_driver import WebDriver\n",
    "import time\n",
    "import fx_test\n",
    "from fx_test import TestEngine\n",
    "\n",
    "from selenium.common.exceptions import StaleElementReferenceException, TimeoutException, ElementClickInterceptedException\n",
    "from selenium.webdriver.common.action_chains import ActionChains\n",
    "from selenium.webdriver.common.by import By\n",
    "from selenium.webdriver.support import expected_conditions\n",
    "from selenium.webdriver.support.ui import Select, WebDriverWait\n",
    "from selenium.webdriver.common.keys import Keys\n",
    "\n",
    "import unittest\n",
    "from ui_helper import UIHelper\n",
    "from test_ui_settings import TestUISettings"
   ]
  },
  {
   "cell_type": "markdown",
   "metadata": {},
   "source": [
    "## Variables Declaration"
   ]
  },
  {
   "cell_type": "code",
   "execution_count": 21,
   "metadata": {},
   "outputs": [
    {
     "name": "stdout",
     "output_type": "stream",
     "text": [
      "[INFO] Test Suite: suite_settings\n",
      "[INFO] Suite Case: suite_02\n"
     ]
    }
   ],
   "source": [
    "log_config = \"../config/logging.conf\"\n",
    "\n",
    "# # Create folder \"logs\"\n",
    "# pathlib.Path('../logs').mkdir(exist_ok=True)  \n",
    "# logging.log_file = datetime.now().strftime('../logs/log_%Y%m%d_%H%M%S.log')\n",
    "logging.config.fileConfig(log_config, disable_existing_loggers=False)\n",
    "logger = logging.getLogger(__name__)\n",
    "\n",
    "suite_name = \"suite_settings\"\n",
    "suite_case = \"suite_02\"\n",
    "logger.info(\"Test Suite: {}\".format(suite_name))\n",
    "logger.info(\"Suite Case: {}\".format(suite_case))"
   ]
  },
  {
   "cell_type": "markdown",
   "metadata": {},
   "source": [
    "## Functions Definition"
   ]
  },
  {
   "cell_type": "code",
   "execution_count": null,
   "metadata": {},
   "outputs": [],
   "source": []
  },
  {
   "cell_type": "markdown",
   "metadata": {},
   "source": [
    "### Main Function Begin\n",
    "def main(args):"
   ]
  },
  {
   "cell_type": "code",
   "execution_count": 22,
   "metadata": {},
   "outputs": [
    {
     "name": "stdout",
     "output_type": "stream",
     "text": [
      "[INFO] Mode: windows\n",
      "[INFO] Base Url: http://211.25.204.108:30002/\n",
      "[INFO] User Name: zong.xian.soh@adv-fusionex.com\n"
     ]
    }
   ],
   "source": [
    "mode = config[\"web\"][\"mode\"]\n",
    "base_url = config[\"web\"][\"base_url\"]\n",
    "timeout = config[\"web\"][\"timeout\"]\n",
    "user_name = config[\"web\"][\"user_name\"]\n",
    "password = config[\"web\"][\"password\"]\n",
    "# company_short_name = config[\"company\"][\"company_short_name\"]\n",
    "company_name = config[\"data\"][\"company_name\"]\n",
    "\n",
    "\n",
    "\n",
    "\n",
    "if mode == \"windows\":\n",
    "    driver_path = \"../../../library/drivers/chrome/win/chromedriver.exe\"\n",
    "else:\n",
    "    driver_path = \"../../../library/drivers/chrome/mac/chromedriver\"\n",
    "    \n",
    "logger.info(\"Mode: {}\".format(mode))\n",
    "logger.info(\"Base Url: {}\".format(base_url))\n",
    "logger.info(\"User Name: {}\".format(user_name))"
   ]
  },
  {
   "cell_type": "code",
   "execution_count": 23,
   "metadata": {},
   "outputs": [
    {
     "name": "stdout",
     "output_type": "stream",
     "text": [
      "TestEngine: WebDriver created!\n",
      "Mode: windows\n",
      "Driver Path: ../../../library/drivers/chrome/win/chromedriver.exe\n",
      "Timeout: 10\n"
     ]
    }
   ],
   "source": [
    "# Get web page\n",
    "\n",
    "instance = TestEngine(mode=\"windows\", driver_path=driver_path, timeout=timeout)\n",
    "instance.get_driver().get(base_url)"
   ]
  },
  {
   "cell_type": "markdown",
   "metadata": {},
   "source": [
    "<a id='top'></a>\n",
    "## Table of contents\n",
    "- <a href='#data_load'>Load Test Data</a>\n",
    "- <a href='#login'>Login</a>\n",
    "- <a href='#switch_company'>Switch Company</a>\n",
    "- <a href='#company'>Settings - Company</a>\n",
    "- <a href='#localisation'>Settings - Localisation</a>\n",
    "- <a href='#currencies'>Settings - Currencies</a>\n",
    "- <a href='#taxes'>Settings - Taxes</a>\n",
    "- <a href='#categories'>Settings - Categories</a>\n",
    "- <a href='#offline_payments'>Settings - Offline Payments</a>\n",
    "- <a href='#invoice'>Settings - Invoice</a>\n",
    "- <a href='#credit_note'>Settings - Credit Note</a>\n",
    "- <a href='#debit_note'>Settings - Debit Note</a>\n",
    "- <a href='#debit_note'>Settings - Debit Note</a>\n",
    "- <a href='#payroll'>Settings - Payroll</a>\n",
    "- <a href='#+'>Shortcut + Button</a>"
   ]
  },
  {
   "cell_type": "markdown",
   "metadata": {},
   "source": [
    "<a id='data_load'></a>\n",
    "### Load Test Data\n",
    "<a href='#top'>top</a>"
   ]
  },
  {
   "cell_type": "code",
   "execution_count": 25,
   "metadata": {},
   "outputs": [],
   "source": [
    "# Load sample data\n",
    "data_path =  f\"../data/{suite_case}/settings.json\"\n",
    "with open(data_path, \"r\") as file:\n",
    "    data = file.read()\n",
    "    data = json.loads(data)\n",
    "\n",
    "data[\"company\"][\"name\"] = company_name\n",
    "company = data[\"company\"]\n",
    "localisation = data[\"localisation\"]\n",
    "currencies = data[\"currency\"]\n",
    "taxes = data[\"tax\"]\n",
    "categories = data[\"category\"]\n",
    "invoice = data[\"invoice\"]\n",
    "credit_note = data[\"credit_note\"]\n",
    "debit_note = data[\"debit_note\"]\n",
    "payroll = data[\"payroll\"]"
   ]
  },
  {
   "cell_type": "markdown",
   "metadata": {},
   "source": [
    "<a id='login'></a>\n",
    "### Login\n",
    "<a href='#top'>top</a>"
   ]
  },
  {
   "cell_type": "code",
   "execution_count": 26,
   "metadata": {},
   "outputs": [],
   "source": [
    "ui = UIHelper(instance, user_name=user_name, password=password)\n",
    "ui.login()"
   ]
  },
  {
   "cell_type": "markdown",
   "metadata": {},
   "source": [
    "<a id='switch_company'></a>\n",
    "### Switch Company\n",
    "<a href='#top'>top</a>"
   ]
  },
  {
   "cell_type": "code",
   "execution_count": null,
   "metadata": {},
   "outputs": [],
   "source": [
    "ui.switch_company(name)"
   ]
  },
  {
   "cell_type": "code",
   "execution_count": 29,
   "metadata": {},
   "outputs": [
    {
     "ename": "AssertionError",
     "evalue": "'shek.hang.cheng@adv-fusionex.com' != 'info@fxasolution.com'\n- shek.hang.cheng@adv-fusionex.com\n+ info@fxasolution.com\n : Company email is not 'info@fxasolution.com'",
     "output_type": "error",
     "traceback": [
      "\u001b[1;31m---------------------------------------------------------------------------\u001b[0m",
      "\u001b[1;31mAssertionError\u001b[0m                            Traceback (most recent call last)",
      "\u001b[1;32m<ipython-input-29-9eb86529ee01>\u001b[0m in \u001b[0;36m<module>\u001b[1;34m\u001b[0m\n\u001b[0;32m      1\u001b[0m \u001b[0msuite\u001b[0m \u001b[1;33m=\u001b[0m \u001b[0munittest\u001b[0m\u001b[1;33m.\u001b[0m\u001b[0mTestSuite\u001b[0m\u001b[1;33m(\u001b[0m\u001b[1;33m)\u001b[0m\u001b[1;33m\u001b[0m\u001b[1;33m\u001b[0m\u001b[0m\n\u001b[1;32m----> 2\u001b[1;33m \u001b[0msuite\u001b[0m\u001b[1;33m.\u001b[0m\u001b[0maddTest\u001b[0m\u001b[1;33m(\u001b[0m\u001b[0mTestUISettings\u001b[0m\u001b[1;33m(\u001b[0m\u001b[1;34m\"test_company\"\u001b[0m\u001b[1;33m,\u001b[0m \u001b[0minstance\u001b[0m\u001b[1;33m,\u001b[0m \u001b[0mui\u001b[0m\u001b[1;33m,\u001b[0m \u001b[0mcompany\u001b[0m\u001b[1;33m=\u001b[0m\u001b[0mcompany\u001b[0m\u001b[1;33m)\u001b[0m\u001b[1;33m)\u001b[0m\u001b[1;33m\u001b[0m\u001b[1;33m\u001b[0m\u001b[0m\n\u001b[0m",
      "\u001b[1;32m~\\Documents\\GitHub\\ui-test-framework\\notebooks\\giant_accounting\\tests\\test_ui_settings.py\u001b[0m in \u001b[0;36m__init__\u001b[1;34m(self, test_name, driver, ui, **kwargs)\u001b[0m\n\u001b[0;32m     37\u001b[0m         \u001b[0mself\u001b[0m\u001b[1;33m.\u001b[0m\u001b[0mcompany_email_address\u001b[0m \u001b[1;33m=\u001b[0m \u001b[0mself\u001b[0m\u001b[1;33m.\u001b[0m\u001b[0mkwargs\u001b[0m\u001b[1;33m[\u001b[0m\u001b[1;34m\"company\"\u001b[0m\u001b[1;33m]\u001b[0m\u001b[1;33m[\u001b[0m\u001b[1;34m\"email_address\"\u001b[0m\u001b[1;33m]\u001b[0m\u001b[1;33m\u001b[0m\u001b[1;33m\u001b[0m\u001b[0m\n\u001b[0;32m     38\u001b[0m         \u001b[0mself\u001b[0m\u001b[1;33m.\u001b[0m\u001b[0mcompany_address\u001b[0m \u001b[1;33m=\u001b[0m \u001b[0mself\u001b[0m\u001b[1;33m.\u001b[0m\u001b[0mkwargs\u001b[0m\u001b[1;33m[\u001b[0m\u001b[1;34m\"company\"\u001b[0m\u001b[1;33m]\u001b[0m\u001b[1;33m[\u001b[0m\u001b[1;34m\"address\"\u001b[0m\u001b[1;33m]\u001b[0m\u001b[1;33m\u001b[0m\u001b[1;33m\u001b[0m\u001b[0m\n\u001b[1;32m---> 39\u001b[1;33m         \u001b[0mself\u001b[0m\u001b[1;33m.\u001b[0m\u001b[0mtest_company\u001b[0m\u001b[1;33m(\u001b[0m\u001b[1;33m)\u001b[0m\u001b[1;33m\u001b[0m\u001b[1;33m\u001b[0m\u001b[0m\n\u001b[0m\u001b[0;32m     40\u001b[0m \u001b[1;33m\u001b[0m\u001b[0m\n\u001b[0;32m     41\u001b[0m     \u001b[1;32mdef\u001b[0m \u001b[0mtest_company\u001b[0m\u001b[1;33m(\u001b[0m\u001b[0mself\u001b[0m\u001b[1;33m)\u001b[0m\u001b[1;33m:\u001b[0m\u001b[1;33m\u001b[0m\u001b[1;33m\u001b[0m\u001b[0m\n",
      "\u001b[1;32m~\\Documents\\GitHub\\ui-test-framework\\notebooks\\giant_accounting\\tests\\test_ui_settings.py\u001b[0m in \u001b[0;36mtest_company\u001b[1;34m(self)\u001b[0m\n\u001b[0;32m     48\u001b[0m \u001b[1;33m\u001b[0m\u001b[0m\n\u001b[0;32m     49\u001b[0m         \u001b[0melement\u001b[0m \u001b[1;33m=\u001b[0m \u001b[0mself\u001b[0m\u001b[1;33m.\u001b[0m\u001b[0mdriver\u001b[0m\u001b[1;33m.\u001b[0m\u001b[0mget_element\u001b[0m\u001b[1;33m(\u001b[0m\u001b[0mlocator\u001b[0m \u001b[1;33m=\u001b[0m \u001b[1;33m(\u001b[0m\u001b[0mBy\u001b[0m\u001b[1;33m.\u001b[0m\u001b[0mID\u001b[0m\u001b[1;33m,\u001b[0m \u001b[1;34m\"email\"\u001b[0m\u001b[1;33m)\u001b[0m\u001b[1;33m)\u001b[0m\u001b[1;33m\u001b[0m\u001b[1;33m\u001b[0m\u001b[0m\n\u001b[1;32m---> 50\u001b[1;33m         \u001b[0mself\u001b[0m\u001b[1;33m.\u001b[0m\u001b[0massertEqual\u001b[0m\u001b[1;33m(\u001b[0m\u001b[0melement\u001b[0m\u001b[1;33m.\u001b[0m\u001b[0mget_attribute\u001b[0m\u001b[1;33m(\u001b[0m\u001b[1;34m\"value\"\u001b[0m\u001b[1;33m)\u001b[0m\u001b[1;33m,\u001b[0m \u001b[0mself\u001b[0m\u001b[1;33m.\u001b[0m\u001b[0mcompany_email_address\u001b[0m\u001b[1;33m,\u001b[0m \u001b[1;34m\"Company email is not '{}'\"\u001b[0m\u001b[1;33m.\u001b[0m\u001b[0mformat\u001b[0m\u001b[1;33m(\u001b[0m\u001b[0mself\u001b[0m\u001b[1;33m.\u001b[0m\u001b[0mcompany_email_address\u001b[0m\u001b[1;33m)\u001b[0m\u001b[1;33m)\u001b[0m\u001b[1;33m\u001b[0m\u001b[1;33m\u001b[0m\u001b[0m\n\u001b[0m\u001b[0;32m     51\u001b[0m \u001b[1;33m\u001b[0m\u001b[0m\n\u001b[0;32m     52\u001b[0m         \u001b[0melement\u001b[0m \u001b[1;33m=\u001b[0m \u001b[0mself\u001b[0m\u001b[1;33m.\u001b[0m\u001b[0mdriver\u001b[0m\u001b[1;33m.\u001b[0m\u001b[0mget_element\u001b[0m\u001b[1;33m(\u001b[0m\u001b[0mlocator\u001b[0m \u001b[1;33m=\u001b[0m \u001b[1;33m(\u001b[0m\u001b[0mBy\u001b[0m\u001b[1;33m.\u001b[0m\u001b[0mID\u001b[0m\u001b[1;33m,\u001b[0m \u001b[1;34m\"tax_number\"\u001b[0m\u001b[1;33m)\u001b[0m\u001b[1;33m)\u001b[0m\u001b[1;33m\u001b[0m\u001b[1;33m\u001b[0m\u001b[0m\n",
      "\u001b[1;32m~\\Anaconda3\\envs\\Ui testing\\lib\\unittest\\case.py\u001b[0m in \u001b[0;36massertEqual\u001b[1;34m(self, first, second, msg)\u001b[0m\n\u001b[0;32m    827\u001b[0m         \"\"\"\n\u001b[0;32m    828\u001b[0m         \u001b[0massertion_func\u001b[0m \u001b[1;33m=\u001b[0m \u001b[0mself\u001b[0m\u001b[1;33m.\u001b[0m\u001b[0m_getAssertEqualityFunc\u001b[0m\u001b[1;33m(\u001b[0m\u001b[0mfirst\u001b[0m\u001b[1;33m,\u001b[0m \u001b[0msecond\u001b[0m\u001b[1;33m)\u001b[0m\u001b[1;33m\u001b[0m\u001b[1;33m\u001b[0m\u001b[0m\n\u001b[1;32m--> 829\u001b[1;33m         \u001b[0massertion_func\u001b[0m\u001b[1;33m(\u001b[0m\u001b[0mfirst\u001b[0m\u001b[1;33m,\u001b[0m \u001b[0msecond\u001b[0m\u001b[1;33m,\u001b[0m \u001b[0mmsg\u001b[0m\u001b[1;33m=\u001b[0m\u001b[0mmsg\u001b[0m\u001b[1;33m)\u001b[0m\u001b[1;33m\u001b[0m\u001b[1;33m\u001b[0m\u001b[0m\n\u001b[0m\u001b[0;32m    830\u001b[0m \u001b[1;33m\u001b[0m\u001b[0m\n\u001b[0;32m    831\u001b[0m     \u001b[1;32mdef\u001b[0m \u001b[0massertNotEqual\u001b[0m\u001b[1;33m(\u001b[0m\u001b[0mself\u001b[0m\u001b[1;33m,\u001b[0m \u001b[0mfirst\u001b[0m\u001b[1;33m,\u001b[0m \u001b[0msecond\u001b[0m\u001b[1;33m,\u001b[0m \u001b[0mmsg\u001b[0m\u001b[1;33m=\u001b[0m\u001b[1;32mNone\u001b[0m\u001b[1;33m)\u001b[0m\u001b[1;33m:\u001b[0m\u001b[1;33m\u001b[0m\u001b[1;33m\u001b[0m\u001b[0m\n",
      "\u001b[1;32m~\\Anaconda3\\envs\\Ui testing\\lib\\unittest\\case.py\u001b[0m in \u001b[0;36massertMultiLineEqual\u001b[1;34m(self, first, second, msg)\u001b[0m\n\u001b[0;32m   1201\u001b[0m             \u001b[0mdiff\u001b[0m \u001b[1;33m=\u001b[0m \u001b[1;34m'\\n'\u001b[0m \u001b[1;33m+\u001b[0m \u001b[1;34m''\u001b[0m\u001b[1;33m.\u001b[0m\u001b[0mjoin\u001b[0m\u001b[1;33m(\u001b[0m\u001b[0mdifflib\u001b[0m\u001b[1;33m.\u001b[0m\u001b[0mndiff\u001b[0m\u001b[1;33m(\u001b[0m\u001b[0mfirstlines\u001b[0m\u001b[1;33m,\u001b[0m \u001b[0msecondlines\u001b[0m\u001b[1;33m)\u001b[0m\u001b[1;33m)\u001b[0m\u001b[1;33m\u001b[0m\u001b[1;33m\u001b[0m\u001b[0m\n\u001b[0;32m   1202\u001b[0m             \u001b[0mstandardMsg\u001b[0m \u001b[1;33m=\u001b[0m \u001b[0mself\u001b[0m\u001b[1;33m.\u001b[0m\u001b[0m_truncateMessage\u001b[0m\u001b[1;33m(\u001b[0m\u001b[0mstandardMsg\u001b[0m\u001b[1;33m,\u001b[0m \u001b[0mdiff\u001b[0m\u001b[1;33m)\u001b[0m\u001b[1;33m\u001b[0m\u001b[1;33m\u001b[0m\u001b[0m\n\u001b[1;32m-> 1203\u001b[1;33m             \u001b[0mself\u001b[0m\u001b[1;33m.\u001b[0m\u001b[0mfail\u001b[0m\u001b[1;33m(\u001b[0m\u001b[0mself\u001b[0m\u001b[1;33m.\u001b[0m\u001b[0m_formatMessage\u001b[0m\u001b[1;33m(\u001b[0m\u001b[0mmsg\u001b[0m\u001b[1;33m,\u001b[0m \u001b[0mstandardMsg\u001b[0m\u001b[1;33m)\u001b[0m\u001b[1;33m)\u001b[0m\u001b[1;33m\u001b[0m\u001b[1;33m\u001b[0m\u001b[0m\n\u001b[0m\u001b[0;32m   1204\u001b[0m \u001b[1;33m\u001b[0m\u001b[0m\n\u001b[0;32m   1205\u001b[0m     \u001b[1;32mdef\u001b[0m \u001b[0massertLess\u001b[0m\u001b[1;33m(\u001b[0m\u001b[0mself\u001b[0m\u001b[1;33m,\u001b[0m \u001b[0ma\u001b[0m\u001b[1;33m,\u001b[0m \u001b[0mb\u001b[0m\u001b[1;33m,\u001b[0m \u001b[0mmsg\u001b[0m\u001b[1;33m=\u001b[0m\u001b[1;32mNone\u001b[0m\u001b[1;33m)\u001b[0m\u001b[1;33m:\u001b[0m\u001b[1;33m\u001b[0m\u001b[1;33m\u001b[0m\u001b[0m\n",
      "\u001b[1;32m~\\Anaconda3\\envs\\Ui testing\\lib\\unittest\\case.py\u001b[0m in \u001b[0;36mfail\u001b[1;34m(self, msg)\u001b[0m\n\u001b[0;32m    668\u001b[0m     \u001b[1;32mdef\u001b[0m \u001b[0mfail\u001b[0m\u001b[1;33m(\u001b[0m\u001b[0mself\u001b[0m\u001b[1;33m,\u001b[0m \u001b[0mmsg\u001b[0m\u001b[1;33m=\u001b[0m\u001b[1;32mNone\u001b[0m\u001b[1;33m)\u001b[0m\u001b[1;33m:\u001b[0m\u001b[1;33m\u001b[0m\u001b[1;33m\u001b[0m\u001b[0m\n\u001b[0;32m    669\u001b[0m         \u001b[1;34m\"\"\"Fail immediately, with the given message.\"\"\"\u001b[0m\u001b[1;33m\u001b[0m\u001b[1;33m\u001b[0m\u001b[0m\n\u001b[1;32m--> 670\u001b[1;33m         \u001b[1;32mraise\u001b[0m \u001b[0mself\u001b[0m\u001b[1;33m.\u001b[0m\u001b[0mfailureException\u001b[0m\u001b[1;33m(\u001b[0m\u001b[0mmsg\u001b[0m\u001b[1;33m)\u001b[0m\u001b[1;33m\u001b[0m\u001b[1;33m\u001b[0m\u001b[0m\n\u001b[0m\u001b[0;32m    671\u001b[0m \u001b[1;33m\u001b[0m\u001b[0m\n\u001b[0;32m    672\u001b[0m     \u001b[1;32mdef\u001b[0m \u001b[0massertFalse\u001b[0m\u001b[1;33m(\u001b[0m\u001b[0mself\u001b[0m\u001b[1;33m,\u001b[0m \u001b[0mexpr\u001b[0m\u001b[1;33m,\u001b[0m \u001b[0mmsg\u001b[0m\u001b[1;33m=\u001b[0m\u001b[1;32mNone\u001b[0m\u001b[1;33m)\u001b[0m\u001b[1;33m:\u001b[0m\u001b[1;33m\u001b[0m\u001b[1;33m\u001b[0m\u001b[0m\n",
      "\u001b[1;31mAssertionError\u001b[0m: 'shek.hang.cheng@adv-fusionex.com' != 'info@fxasolution.com'\n- shek.hang.cheng@adv-fusionex.com\n+ info@fxasolution.com\n : Company email is not 'info@fxasolution.com'"
     ]
    }
   ],
   "source": [
    "suite = unittest.TestSuite()\n",
    "suite.addTest(TestUISettings(\"test_company\", instance, ui, company=company))"
   ]
  },
  {
   "cell_type": "markdown",
   "metadata": {},
   "source": [
    "<a id='company'></a>\n",
    "### Settings - Company\n",
    "<a href='#top'>top</a>"
   ]
  },
  {
   "cell_type": "code",
   "execution_count": 65,
   "metadata": {},
   "outputs": [],
   "source": [
    "ui.click_side_menu(\"Settings\")\n",
    "# select \"Settings - Company\"\n",
    "locator = (By.XPATH, '//div[@class=\"card-body\"]//*[text()=\"Company\"]')\n",
    "instance.click_element(locator)"
   ]
  },
  {
   "cell_type": "code",
   "execution_count": null,
   "metadata": {},
   "outputs": [],
   "source": [
    "# edit \"Company\"\n",
    "ui.enter_text((By.ID, \"name\"), company_name)\n",
    "ui.enter_text((By.ID, \"email\"), company[\"email_address\"])\n",
    "ui.enter_text((By.ID, \"tax_number\"), company[\"tax_number\"])\n",
    "ui.enter_text((By.ID, \"phone\"), company[\"phone\"])\n",
    "ui.enter_text((By.ID, \"address\"), company[\"address\"])\n",
    "\n",
    "instance.scroll_down()\n",
    "\n",
    "ui.click_save()"
   ]
  },
  {
   "cell_type": "markdown",
   "metadata": {},
   "source": [
    "<a id='localisation'></a>\n",
    "### Settings - Localisation\n",
    "<a href='#top'>top</a>"
   ]
  },
  {
   "cell_type": "code",
   "execution_count": null,
   "metadata": {},
   "outputs": [],
   "source": [
    "ui.click_side_menu(\"Settings\")\n",
    "# select \"Settings - Localisation\"\n",
    "locator = (By.XPATH, '//div[@class=\"card-body\"]//*[text()=\"Localisation\"]')\n",
    "instance.click_element(locator)"
   ]
  },
  {
   "cell_type": "code",
   "execution_count": null,
   "metadata": {},
   "outputs": [],
   "source": [
    "# edit \"Localisation\"\n",
    "ui.select_date_picker(\"Financial Year Start\", localisation[\"financial_year_start\"])\n",
    "ui.select_dropdown(\"Time Zone\", localisation[\"time_zone\"])\n",
    "ui.select_dropdown(\"Date Format\", localisation[\"date_format\"])\n",
    "ui.select_dropdown(\"Date Separator\", localisation[\"date_separator\"])\n",
    "ui.select_dropdown(\"Percent (%) Position\", localisation[\"percent_position\"])\n",
    "ui.select_dropdown(\"Discount Location\", localisation[\"discount_location\"])\n",
    "\n",
    "ui.click_save()"
   ]
  },
  {
   "cell_type": "markdown",
   "metadata": {},
   "source": [
    "<a id='currencies'></a>\n",
    "### Settings - Currencies\n",
    "<a href='#top'>top</a>"
   ]
  },
  {
   "cell_type": "code",
   "execution_count": null,
   "metadata": {},
   "outputs": [],
   "source": [
    "ui.click_side_menu(\"Settings\")\n",
    "# select \"Settings - Currencies\"\n",
    "locator = (By.XPATH, '//div[@class=\"card-body\"]//*[text()=\"Currencies\"]')\n",
    "instance.click_element(locator)"
   ]
  },
  {
   "cell_type": "code",
   "execution_count": null,
   "metadata": {},
   "outputs": [],
   "source": [
    "for currency in currencies:\n",
    "    instance.scroll_down()\n",
    "    locator = (By.XPATH, f'.//tbody/tr[contains(@class, \"row\") and ./td[3 and text()=\"{currency[\"code\"]}\"]]')\n",
    "    elements = instance.find_elements(locator)\n",
    "    \n",
    "    if len(elements) > 0:\n",
    "        logger.info(f\"Found: {currency['code']}\")\n",
    "        ui.click_edit(elements[0])\n",
    "    else:\n",
    "        logger.info(f\"Not Found: {currency['code']}\")\n",
    "        ui.click_add()\n",
    "\n",
    "    ui.enter_text((By.ID, \"name\"), currency[\"name\"])\n",
    "    ui.select_dropdown(\"Code\", currency[\"code\"])\n",
    "    ui.enter_text((By.ID, \"rate\"), str(currency[\"rate\"]))\n",
    "    ui.select_dropdown(\"Precision\", \"4\")\n",
    "    ui.enter_text((By.ID, \"decimal_mark\"), str(currency[\"decimal_mark\"]))\n",
    "    ui.enter_text((By.ID, \"thousands_separator\"), str(currency[\"thousands_separator\"]))\n",
    "    instance.scroll_down()\n",
    "    ui.select_toggle_button(\"Enabled\", \"Yes\")\n",
    "    ui.select_toggle_button(\"Default Currency\", currency[\"default\"])\n",
    "    ui.click_save()\n",
    "    instance.wait(2)"
   ]
  },
  {
   "cell_type": "code",
   "execution_count": null,
   "metadata": {},
   "outputs": [],
   "source": [
    "# Delete unused currencies\n",
    "locator = (By.XPATH, f'.//tbody/tr[contains(@class, \"row\")]/td[3]')\n",
    "elements = instance.find_elements(locator)\n",
    "\n",
    "codes = [element.get_attribute(\"innerHTML\") for element in elements]\n",
    "\n",
    "for code in codes:\n",
    "    if code not in [currency[\"code\"] for currency in currencies]:\n",
    "        locator = (By.XPATH, f'.//tbody/tr[contains(@class, \"row\") and ./td[3 and text()=\"{code}\"]]')\n",
    "        element = instance.find_element(locator)\n",
    "        ui.click_delete(element)"
   ]
  },
  {
   "cell_type": "markdown",
   "metadata": {},
   "source": [
    "<a id='settings_tax'></a>\n",
    "### Settings - Tax\n",
    "<a href='#top'>top</a>"
   ]
  },
  {
   "cell_type": "code",
   "execution_count": null,
   "metadata": {},
   "outputs": [],
   "source": [
    "ui.click_side_menu(\"Settings\")\n",
    "# select \"Settings - Taxes\"\n",
    "locator = (By.XPATH, '//div[@class=\"card-body\"]//*[text()=\"Taxes\"]')\n",
    "instance.click_element(locator)"
   ]
  },
  {
   "cell_type": "code",
   "execution_count": null,
   "metadata": {},
   "outputs": [],
   "source": [
    "for tax in taxes:\n",
    "    instance.scroll_down()\n",
    "    locator = (By.XPATH, f'.//tbody/tr[contains(@class, \"row\") and //*[text()[contains(., \"{tax[\"name\"]}\")]]]')\n",
    "    elements = instance.find_elements(locator)\n",
    "    if len(elements) > 0:\n",
    "        logger.info(f\"Found: {tax['name']}\")\n",
    "        ui.click_edit(elements[0])\n",
    "    else:\n",
    "        logger.info(f\"Not Found: {tax['name']}\")\n",
    "        ui.click_add()\n",
    "\n",
    "    ui.enter_text((By.ID, \"name\"), tax[\"name\"])\n",
    "    ui.enter_text((By.ID, \"rate\"), str(tax[\"rate_%\"]))\n",
    "    ui.select_dropdown(\"Type\", tax[\"type\"])\n",
    "    ui.click_save()\n",
    "    instance.wait(2)"
   ]
  },
  {
   "cell_type": "code",
   "execution_count": null,
   "metadata": {},
   "outputs": [],
   "source": [
    "# Delete unused taxes\n",
    "locator = (By.XPATH, f'.//tbody/tr[contains(@class, \"row\")]/td[2]')\n",
    "elements = instance.find_elements(locator)\n",
    "\n",
    "names = [element.text for element in elements]\n",
    "\n",
    "for name in names:\n",
    "    if name not in [tax[\"name\"] for tax in taxes]:\n",
    "        locator = (By.XPATH, f'.//tbody/tr[contains(@class, \"row\") and //*[text()[contains(., \"{tax[\"name\"]}\")]]]')\n",
    "        element = instance.find_element(locator)\n",
    "        ui.click_delete(element)"
   ]
  },
  {
   "cell_type": "markdown",
   "metadata": {},
   "source": [
    "<a id='categories'></a>\n",
    "### Settings - Categories\n",
    "<a href='#top'>top</a>"
   ]
  },
  {
   "cell_type": "code",
   "execution_count": 122,
   "metadata": {},
   "outputs": [],
   "source": [
    "ui.click_side_menu(\"Settings\")\n",
    "# select \"Settings - Categories\"\n",
    "locator = (By.XPATH, '//div[@class=\"card-body\"]//*[text()=\"Categories\"]')\n",
    "instance.click_element(locator)"
   ]
  },
  {
   "cell_type": "code",
   "execution_count": 123,
   "metadata": {},
   "outputs": [
    {
     "name": "stdout",
     "output_type": "stream",
     "text": [
      "Software Item\n",
      "[INFO] Found: Software\n",
      "[INFO] Not Found: Cloud Subscription\n",
      "[INFO] Not Found: Server\n",
      "Office Equipment Item\n",
      "[INFO] Found: Office Equipment\n"
     ]
    },
    {
     "ename": "KeyboardInterrupt",
     "evalue": "",
     "output_type": "error",
     "traceback": [
      "\u001b[1;31m---------------------------------------------------------------------------\u001b[0m",
      "\u001b[1;31mKeyboardInterrupt\u001b[0m                         Traceback (most recent call last)",
      "\u001b[1;32m<ipython-input-123-77aa506ca361>\u001b[0m in \u001b[0;36m<module>\u001b[1;34m\u001b[0m\n\u001b[0;32m     18\u001b[0m     \u001b[0mui\u001b[0m\u001b[1;33m.\u001b[0m\u001b[0mselect_toggle_button\u001b[0m\u001b[1;33m(\u001b[0m\u001b[1;34m\"Enabled\"\u001b[0m\u001b[1;33m,\u001b[0m \u001b[0mcategory\u001b[0m\u001b[1;33m[\u001b[0m\u001b[1;34m\"enabled\"\u001b[0m\u001b[1;33m]\u001b[0m\u001b[1;33m)\u001b[0m\u001b[1;33m\u001b[0m\u001b[1;33m\u001b[0m\u001b[0m\n\u001b[0;32m     19\u001b[0m     \u001b[0mui\u001b[0m\u001b[1;33m.\u001b[0m\u001b[0mclick_save\u001b[0m\u001b[1;33m(\u001b[0m\u001b[1;33m)\u001b[0m\u001b[1;33m\u001b[0m\u001b[1;33m\u001b[0m\u001b[0m\n\u001b[1;32m---> 20\u001b[1;33m     \u001b[0minstance\u001b[0m\u001b[1;33m.\u001b[0m\u001b[0mwait\u001b[0m\u001b[1;33m(\u001b[0m\u001b[1;36m8\u001b[0m\u001b[1;33m)\u001b[0m\u001b[1;33m\u001b[0m\u001b[1;33m\u001b[0m\u001b[0m\n\u001b[0m",
      "\u001b[1;32m~\\Documents\\GitHub\\ui-test-framework\\library\\util\\web_driver.py\u001b[0m in \u001b[0;36mwait\u001b[1;34m(self, seconds)\u001b[0m\n\u001b[0;32m    139\u001b[0m \u001b[1;33m\u001b[0m\u001b[0m\n\u001b[0;32m    140\u001b[0m     \u001b[1;32mdef\u001b[0m \u001b[0mwait\u001b[0m\u001b[1;33m(\u001b[0m\u001b[0mself\u001b[0m\u001b[1;33m,\u001b[0m \u001b[0mseconds\u001b[0m\u001b[1;33m)\u001b[0m\u001b[1;33m:\u001b[0m\u001b[1;33m\u001b[0m\u001b[1;33m\u001b[0m\u001b[0m\n\u001b[1;32m--> 141\u001b[1;33m         \u001b[0mtime\u001b[0m\u001b[1;33m.\u001b[0m\u001b[0msleep\u001b[0m\u001b[1;33m(\u001b[0m\u001b[0mseconds\u001b[0m\u001b[1;33m)\u001b[0m\u001b[1;33m\u001b[0m\u001b[1;33m\u001b[0m\u001b[0m\n\u001b[0m\u001b[0;32m    142\u001b[0m \u001b[1;33m\u001b[0m\u001b[0m\n\u001b[0;32m    143\u001b[0m     \u001b[1;32mdef\u001b[0m \u001b[0mcrawl_metadata\u001b[0m\u001b[1;33m(\u001b[0m\u001b[0mself\u001b[0m\u001b[1;33m,\u001b[0m \u001b[0mmetadatas\u001b[0m\u001b[1;33m,\u001b[0m \u001b[0melement_id\u001b[0m\u001b[1;33m,\u001b[0m \u001b[0mparent\u001b[0m\u001b[1;33m=\u001b[0m\u001b[1;32mNone\u001b[0m\u001b[1;33m)\u001b[0m\u001b[1;33m:\u001b[0m\u001b[1;33m\u001b[0m\u001b[1;33m\u001b[0m\u001b[0m\n",
      "\u001b[1;31mKeyboardInterrupt\u001b[0m: "
     ]
    }
   ],
   "source": [
    "for category in categories:\n",
    "    locator = (By.XPATH, f'.//tbody/tr[contains(@class, \"row\") and ./td[2] and .//a[text()[contains(., \"{category[\"name\"]}\")]]]')\n",
    "    elements = instance.find_elements(locator)\n",
    "    if len(elements) > 0:\n",
    "        print(elements[0].text)\n",
    "        logger.info(f\"Found: {category['name']}\")\n",
    "        instance.scroll_to_element(elements[0])\n",
    "        ui.click_edit(elements[0])\n",
    "        \n",
    "    else:\n",
    "        logger.info(f\"Not Found: {category['name']}\")\n",
    "        ui.click_add()\n",
    "\n",
    "    ui.enter_text((By.ID, \"name\"), category[\"name\"])\n",
    "    instance.wait(2)\n",
    "    ui.select_dropdown(\"Type\", category[\"type\"])\n",
    "    ui.enter_text((By.ID, \"color\"), category[\"colour\"])\n",
    "    ui.select_toggle_button(\"Enabled\", category[\"enabled\"])\n",
    "    ui.click_save()\n",
    "    instance.wait(8)"
   ]
  },
  {
   "cell_type": "markdown",
   "metadata": {},
   "source": [
    "<a id='offline_payments'></a>\n",
    "### Settings - Offline Payments\n",
    "<a href='#top'>top</a>"
   ]
  },
  {
   "cell_type": "code",
   "execution_count": null,
   "metadata": {},
   "outputs": [],
   "source": [
    "ui.click_side_menu(\"Settings\")\n",
    "# select \"Settings - Offline Payments\"\n",
    "instance.scroll_down()\n",
    "locator = (By.XPATH, '//div[@class=\"card-body\"]//*[text()=\"Offline Payments\"]')\n",
    "instance.click_element(locator)"
   ]
  },
  {
   "cell_type": "code",
   "execution_count": null,
   "metadata": {},
   "outputs": [],
   "source": [
    "for payment in offline_payments:\n",
    "    locator = (By.XPATH, f'.//tbody/tr[contains(@class, \"row\") and ./td[1 and text()=\"{payment[\"name\"]}\"]]')\n",
    "    elements = instance.find_elements(locator)\n",
    "    if len(elements) > 0:\n",
    "        logger.info(f\"Found: {payment['name']}\")\n",
    "        ui.click_edit(elements[0])\n",
    "    else:\n",
    "        logger.info(f\"Not Found: {payment['name']}\")\n",
    "\n",
    "    ui.enter_text((By.ID, \"name\"), payment[\"name\"])\n",
    "    ui.enter_text((By.ID, \"code\"),  payment[\"code\"])\n",
    "    ui.select_toggle_button(\"Show to Customer\", payment[\"show_to_customer\"])\n",
    "    instance.scroll_down()\n",
    "    ui.enter_text((By.ID, \"order\"), payment[\"order\"])\n",
    "    ui.click_save()\n",
    "    instance.wait(5)"
   ]
  },
  {
   "cell_type": "markdown",
   "metadata": {},
   "source": [
    "<a id='invoice'></a>\n",
    "### Settings - Invoice\n",
    "<a href='#top'>top</a>"
   ]
  },
  {
   "cell_type": "code",
   "execution_count": 107,
   "metadata": {},
   "outputs": [],
   "source": [
    "ui.click_side_menu(\"Settings\")\n",
    "# select \"Settings - Invoice\"\n",
    "locator = (By.XPATH, '//div[@class=\"card-body\"]//*[text()=\"Invoice\"]')\n",
    "instance.click_element(locator)"
   ]
  },
  {
   "cell_type": "code",
   "execution_count": 108,
   "metadata": {},
   "outputs": [
    {
     "ename": "TimeoutException",
     "evalue": "Message: \n",
     "output_type": "error",
     "traceback": [
      "\u001b[1;31m---------------------------------------------------------------------------\u001b[0m",
      "\u001b[1;31mTimeoutException\u001b[0m                          Traceback (most recent call last)",
      "\u001b[1;32m<ipython-input-108-fd62a2a82704>\u001b[0m in \u001b[0;36m<module>\u001b[1;34m\u001b[0m\n\u001b[0;32m      3\u001b[0m \u001b[0mui\u001b[0m\u001b[1;33m.\u001b[0m\u001b[0menter_text\u001b[0m\u001b[1;33m(\u001b[0m\u001b[1;33m(\u001b[0m\u001b[0mBy\u001b[0m\u001b[1;33m.\u001b[0m\u001b[0mID\u001b[0m\u001b[1;33m,\u001b[0m \u001b[1;34m\"number_digit\"\u001b[0m\u001b[1;33m)\u001b[0m\u001b[1;33m,\u001b[0m \u001b[0minvoice\u001b[0m\u001b[1;33m[\u001b[0m\u001b[1;34m\"number_digit\"\u001b[0m\u001b[1;33m]\u001b[0m\u001b[1;33m)\u001b[0m\u001b[1;33m\u001b[0m\u001b[1;33m\u001b[0m\u001b[0m\n\u001b[0;32m      4\u001b[0m \u001b[0mui\u001b[0m\u001b[1;33m.\u001b[0m\u001b[0menter_text\u001b[0m\u001b[1;33m(\u001b[0m\u001b[1;33m(\u001b[0m\u001b[0mBy\u001b[0m\u001b[1;33m.\u001b[0m\u001b[0mID\u001b[0m\u001b[1;33m,\u001b[0m \u001b[1;34m\"number_next\"\u001b[0m\u001b[1;33m)\u001b[0m\u001b[1;33m,\u001b[0m \u001b[0minvoice\u001b[0m\u001b[1;33m[\u001b[0m\u001b[1;34m\"next_number\"\u001b[0m\u001b[1;33m]\u001b[0m\u001b[1;33m)\u001b[0m\u001b[1;33m\u001b[0m\u001b[1;33m\u001b[0m\u001b[0m\n\u001b[1;32m----> 5\u001b[1;33m \u001b[0mui\u001b[0m\u001b[1;33m.\u001b[0m\u001b[0mselect_dropdown\u001b[0m\u001b[1;33m(\u001b[0m\u001b[1;34m\"Payment Terms\"\u001b[0m\u001b[1;33m,\u001b[0m \u001b[0minvoice\u001b[0m\u001b[1;33m[\u001b[0m\u001b[1;34m\"payment_terms\"\u001b[0m\u001b[1;33m]\u001b[0m\u001b[1;33m)\u001b[0m\u001b[1;33m\u001b[0m\u001b[1;33m\u001b[0m\u001b[0m\n\u001b[0m\u001b[0;32m      6\u001b[0m \u001b[0minstance\u001b[0m\u001b[1;33m.\u001b[0m\u001b[0mscroll_down\u001b[0m\u001b[1;33m(\u001b[0m\u001b[1;33m)\u001b[0m\u001b[1;33m\u001b[0m\u001b[1;33m\u001b[0m\u001b[0m\n\u001b[0;32m      7\u001b[0m \u001b[1;33m\u001b[0m\u001b[0m\n",
      "\u001b[1;32m~\\Documents\\GitHub\\ui-test-framework\\notebooks\\giant_accounting\\util\\ui_helper.py\u001b[0m in \u001b[0;36mselect_dropdown\u001b[1;34m(self, key, value, wait)\u001b[0m\n\u001b[0;32m    120\u001b[0m         \u001b[1;31m# click option\u001b[0m\u001b[1;33m\u001b[0m\u001b[1;33m\u001b[0m\u001b[1;33m\u001b[0m\u001b[0m\n\u001b[0;32m    121\u001b[0m         \u001b[0mlocator\u001b[0m \u001b[1;33m=\u001b[0m \u001b[1;33m(\u001b[0m\u001b[0mBy\u001b[0m\u001b[1;33m.\u001b[0m\u001b[0mXPATH\u001b[0m\u001b[1;33m,\u001b[0m \u001b[1;34mf'//div[@class=\"el-select-dropdown el-popper\" and not(contains(@style, \"display: none\"))]//li[.//*[text()=\"{value}\"]]'\u001b[0m\u001b[1;33m)\u001b[0m\u001b[1;33m\u001b[0m\u001b[1;33m\u001b[0m\u001b[0m\n\u001b[1;32m--> 122\u001b[1;33m         \u001b[0mself\u001b[0m\u001b[1;33m.\u001b[0m\u001b[0minstance\u001b[0m\u001b[1;33m.\u001b[0m\u001b[0mclick_element\u001b[0m\u001b[1;33m(\u001b[0m\u001b[0mlocator\u001b[0m\u001b[1;33m)\u001b[0m\u001b[1;33m\u001b[0m\u001b[1;33m\u001b[0m\u001b[0m\n\u001b[0m\u001b[0;32m    123\u001b[0m         \u001b[0mself\u001b[0m\u001b[1;33m.\u001b[0m\u001b[0minstance\u001b[0m\u001b[1;33m.\u001b[0m\u001b[0mwait\u001b[0m\u001b[1;33m(\u001b[0m\u001b[0mwait\u001b[0m\u001b[1;33m)\u001b[0m\u001b[1;33m\u001b[0m\u001b[1;33m\u001b[0m\u001b[0m\n\u001b[0;32m    124\u001b[0m \u001b[1;33m\u001b[0m\u001b[0m\n",
      "\u001b[1;32m~\\Documents\\GitHub\\ui-test-framework\\library\\util\\web_driver.py\u001b[0m in \u001b[0;36mclick_element\u001b[1;34m(self, locator, parent, max_retry, time_sleep)\u001b[0m\n\u001b[0;32m    125\u001b[0m \u001b[1;33m\u001b[0m\u001b[0m\n\u001b[0;32m    126\u001b[0m     \u001b[1;32mdef\u001b[0m \u001b[0mclick_element\u001b[0m\u001b[1;33m(\u001b[0m\u001b[0mself\u001b[0m\u001b[1;33m,\u001b[0m \u001b[0mlocator\u001b[0m\u001b[1;33m,\u001b[0m \u001b[0mparent\u001b[0m\u001b[1;33m=\u001b[0m\u001b[1;32mNone\u001b[0m\u001b[1;33m,\u001b[0m \u001b[0mmax_retry\u001b[0m\u001b[1;33m=\u001b[0m\u001b[1;32mNone\u001b[0m\u001b[1;33m,\u001b[0m \u001b[0mtime_sleep\u001b[0m\u001b[1;33m=\u001b[0m\u001b[1;32mNone\u001b[0m\u001b[1;33m)\u001b[0m\u001b[1;33m:\u001b[0m\u001b[1;33m\u001b[0m\u001b[1;33m\u001b[0m\u001b[0m\n\u001b[1;32m--> 127\u001b[1;33m         \u001b[0melement\u001b[0m \u001b[1;33m=\u001b[0m \u001b[0mself\u001b[0m\u001b[1;33m.\u001b[0m\u001b[0m__get_element\u001b[0m\u001b[1;33m(\u001b[0m\u001b[0mlocator\u001b[0m\u001b[1;33m,\u001b[0m \u001b[0mexpected_conditions\u001b[0m\u001b[1;33m.\u001b[0m\u001b[0melement_to_be_clickable\u001b[0m\u001b[1;33m,\u001b[0m \u001b[0mparent\u001b[0m\u001b[1;33m,\u001b[0m \u001b[0mmax_retry\u001b[0m\u001b[1;33m,\u001b[0m \u001b[0mtime_sleep\u001b[0m\u001b[1;33m)\u001b[0m\u001b[1;33m\u001b[0m\u001b[1;33m\u001b[0m\u001b[0m\n\u001b[0m\u001b[0;32m    128\u001b[0m         \u001b[0melement\u001b[0m\u001b[1;33m.\u001b[0m\u001b[0mclick\u001b[0m\u001b[1;33m(\u001b[0m\u001b[1;33m)\u001b[0m\u001b[1;33m\u001b[0m\u001b[1;33m\u001b[0m\u001b[0m\n\u001b[0;32m    129\u001b[0m \u001b[1;33m\u001b[0m\u001b[0m\n",
      "\u001b[1;32m~\\Documents\\GitHub\\ui-test-framework\\library\\util\\web_driver.py\u001b[0m in \u001b[0;36m__get_element\u001b[1;34m(self, locator, condition, parent, max_retry, time_sleep)\u001b[0m\n\u001b[0;32m     92\u001b[0m             \u001b[1;32mtry\u001b[0m\u001b[1;33m:\u001b[0m\u001b[1;33m\u001b[0m\u001b[1;33m\u001b[0m\u001b[0m\n\u001b[0;32m     93\u001b[0m                 element = (WebDriverWait(parent, self.TIMEOUT)\n\u001b[1;32m---> 94\u001b[1;33m                             .until(condition(locator)))\n\u001b[0m\u001b[0;32m     95\u001b[0m                 \u001b[1;32mif\u001b[0m \u001b[0melement\u001b[0m \u001b[1;32mis\u001b[0m \u001b[1;32mnot\u001b[0m \u001b[1;32mNone\u001b[0m\u001b[1;33m:\u001b[0m\u001b[1;33m\u001b[0m\u001b[1;33m\u001b[0m\u001b[0m\n\u001b[0;32m     96\u001b[0m                     \u001b[1;32mbreak\u001b[0m\u001b[1;33m\u001b[0m\u001b[1;33m\u001b[0m\u001b[0m\n",
      "\u001b[1;32m~\\Anaconda3\\envs\\Ui testing\\lib\\site-packages\\selenium\\webdriver\\support\\wait.py\u001b[0m in \u001b[0;36muntil\u001b[1;34m(self, method, message)\u001b[0m\n\u001b[0;32m     78\u001b[0m             \u001b[1;32mif\u001b[0m \u001b[0mtime\u001b[0m\u001b[1;33m.\u001b[0m\u001b[0mtime\u001b[0m\u001b[1;33m(\u001b[0m\u001b[1;33m)\u001b[0m \u001b[1;33m>\u001b[0m \u001b[0mend_time\u001b[0m\u001b[1;33m:\u001b[0m\u001b[1;33m\u001b[0m\u001b[1;33m\u001b[0m\u001b[0m\n\u001b[0;32m     79\u001b[0m                 \u001b[1;32mbreak\u001b[0m\u001b[1;33m\u001b[0m\u001b[1;33m\u001b[0m\u001b[0m\n\u001b[1;32m---> 80\u001b[1;33m         \u001b[1;32mraise\u001b[0m \u001b[0mTimeoutException\u001b[0m\u001b[1;33m(\u001b[0m\u001b[0mmessage\u001b[0m\u001b[1;33m,\u001b[0m \u001b[0mscreen\u001b[0m\u001b[1;33m,\u001b[0m \u001b[0mstacktrace\u001b[0m\u001b[1;33m)\u001b[0m\u001b[1;33m\u001b[0m\u001b[1;33m\u001b[0m\u001b[0m\n\u001b[0m\u001b[0;32m     81\u001b[0m \u001b[1;33m\u001b[0m\u001b[0m\n\u001b[0;32m     82\u001b[0m     \u001b[1;32mdef\u001b[0m \u001b[0muntil_not\u001b[0m\u001b[1;33m(\u001b[0m\u001b[0mself\u001b[0m\u001b[1;33m,\u001b[0m \u001b[0mmethod\u001b[0m\u001b[1;33m,\u001b[0m \u001b[0mmessage\u001b[0m\u001b[1;33m=\u001b[0m\u001b[1;34m''\u001b[0m\u001b[1;33m)\u001b[0m\u001b[1;33m:\u001b[0m\u001b[1;33m\u001b[0m\u001b[1;33m\u001b[0m\u001b[0m\n",
      "\u001b[1;31mTimeoutException\u001b[0m: Message: \n"
     ]
    }
   ],
   "source": [
    "# edit \"Invoice\"\n",
    "ui.enter_text((By.ID, \"number_prefix\"), invoice[\"number_prefix\"])\n",
    "ui.enter_text((By.ID, \"number_digit\"), invoice[\"number_digit\"])\n",
    "ui.enter_text((By.ID, \"number_next\"), invoice[\"next_number\"])\n",
    "ui.select_dropdown(\"Payment Terms\", invoice[\"payment_terms\"])\n",
    "instance.scroll_down()\n",
    "\n",
    "ui.click_save()"
   ]
  },
  {
   "cell_type": "markdown",
   "metadata": {},
   "source": [
    "<a id='credit_note'></a>\n",
    "### Settings - Credit Note\n",
    "<a href='#top'>top</a>"
   ]
  },
  {
   "cell_type": "code",
   "execution_count": null,
   "metadata": {},
   "outputs": [],
   "source": [
    "ui.click_side_menu(\"Settings\")\n",
    "# select \"Settings - Credit Note\"\n",
    "locator = (By.XPATH, '//div[@class=\"card-body\"]//*[text()=\"Credit Note\"]')\n",
    "instance.click_element(locator)"
   ]
  },
  {
   "cell_type": "code",
   "execution_count": null,
   "metadata": {},
   "outputs": [],
   "source": [
    "# edit \"Credit Note\"\n",
    "ui.enter_text((By.ID, \"number_prefix\"), credit_note[\"number_prefix\"])\n",
    "ui.enter_text((By.ID, \"number_digit\"), credit_note[\"number_digit\"])\n",
    "ui.enter_text((By.ID, \"number_next\"), credit_note[\"next_number\"])\n",
    "instance.scroll_down()\n",
    "\n",
    "ui.click_save()"
   ]
  },
  {
   "cell_type": "markdown",
   "metadata": {},
   "source": [
    "<a id='debit_note'></a>\n",
    "### Settings - Debit Note\n",
    "<a href='#top'>top</a>"
   ]
  },
  {
   "cell_type": "code",
   "execution_count": null,
   "metadata": {},
   "outputs": [],
   "source": [
    "ui.click_side_menu(\"Settings\")\n",
    "# select \"Settings - Debit Note\"\n",
    "locator = (By.XPATH, '//div[@class=\"card-body\"]//*[text()=\"Debit Note\"]')\n",
    "instance.click_element(locator)"
   ]
  },
  {
   "cell_type": "code",
   "execution_count": null,
   "metadata": {},
   "outputs": [],
   "source": [
    "# edit \"Debit Note\"\n",
    "ui.enter_text((By.ID, \"number_prefix\"), credit_note[\"number_prefix\"])\n",
    "ui.enter_text((By.ID, \"number_digit\"), credit_note[\"number_digit\"])\n",
    "ui.enter_text((By.ID, \"number_next\"), credit_note[\"next_number\"])\n",
    "instance.scroll_down()\n",
    "\n",
    "ui.click_save()"
   ]
  },
  {
   "cell_type": "markdown",
   "metadata": {},
   "source": [
    "<a id='payroll'></a>\n",
    "### Settings - Payroll\n",
    "<a href='#top'>top</a>"
   ]
  },
  {
   "cell_type": "code",
   "execution_count": null,
   "metadata": {},
   "outputs": [],
   "source": [
    "ui.click_side_menu(\"Settings\")\n",
    "# select \"Settings - Payroll\"\n",
    "instance.scroll_down()\n",
    "locator = (By.XPATH, '//div[@class=\"card-body\"]//*[text()=\"Payroll\"]')\n",
    "instance.click_element(locator)"
   ]
  },
  {
   "cell_type": "code",
   "execution_count": null,
   "metadata": {},
   "outputs": [],
   "source": [
    "run_payroll_advanced = payroll[\"Run Payroll Advanced\"]\n",
    "\n",
    "# select Run Payroll Advanced tab\n",
    "locator = (By.XPATH, '//div[@class=\"row\"]//*[text()=\"Run Payroll Advanced\"]')\n",
    "instance.click_element(locator)\n",
    "\n",
    "ui.enter_text((By.ID, \"run_payroll_prefix\"), run_payroll_advanced[\"number_prefix\"])\n",
    "ui.enter_text((By.ID, \"run_payroll_digit\"), run_payroll_advanced[\"number_digit\"])\n",
    "ui.enter_text((By.ID, \"run_payroll_next\"), run_payroll_advanced[\"next_number\"])\n",
    "ui.select_dropdown(\"Account\", run_payroll_advanced[\"account\"])\n",
    "instance.scroll_down()\n",
    "ui.select_dropdown(\"Category\", run_payroll_advanced[\"category\"])\n",
    "ui.select_dropdown(\"Payment Method\", run_payroll_advanced[\"payment_method\"])\n",
    "\n",
    "ui.click_save()"
   ]
  },
  {
   "cell_type": "code",
   "execution_count": null,
   "metadata": {},
   "outputs": [],
   "source": [
    "instance.close()"
   ]
  },
  {
   "cell_type": "markdown",
   "metadata": {},
   "source": [
    "<a id='+'></a>\n",
    "### Shortcut + button\n",
    "<a href='#top'>top</a>"
   ]
  },
  {
   "cell_type": "code",
   "execution_count": null,
   "metadata": {},
   "outputs": [],
   "source": [
    "ui.shortcut()\n",
    "locator = (By.XPATH, '//small[text()=\"Invoice\"]')\n",
    "instance.click_element(locator)\n",
    "\n",
    "ui.shortcut()\n",
    "locator = (By.XPATH, '//small[text()=\"Collection\"]')\n",
    "instance.click_element(locator)\n",
    "\n",
    "ui.shortcut()\n",
    "locator = (By.XPATH, '//small[text()=\"Customer\"]')\n",
    "instance.click_element(locator)\n",
    "\n",
    "ui.shortcut()\n",
    "locator = (By.XPATH, '//small[text()=\"Purchase Invoice\"]')\n",
    "instance.click_element(locator)\n",
    "\n",
    "ui.shortcut()\n",
    "locator = (By.XPATH, '//small[text()=\"Payment\"]')\n",
    "instance.click_element(locator)\n",
    "\n",
    "ui.shortcut()\n",
    "locator = (By.XPATH, '//small[text()=\"Vendor\"]')\n",
    "instance.click_element(locator)"
   ]
  },
  {
   "cell_type": "code",
   "execution_count": null,
   "metadata": {},
   "outputs": [],
   "source": [
    "instance.close()"
   ]
  }
 ],
 "metadata": {
  "anaconda-cloud": {},
  "kernelspec": {
   "display_name": "Python 3",
   "language": "python",
   "name": "python3"
  },
  "language_info": {
   "codemirror_mode": {
    "name": "ipython",
    "version": 3
   },
   "file_extension": ".py",
   "mimetype": "text/x-python",
   "name": "python",
   "nbconvert_exporter": "python",
   "pygments_lexer": "ipython3",
   "version": "3.6.12"
  }
 },
 "nbformat": 4,
 "nbformat_minor": 4
}
