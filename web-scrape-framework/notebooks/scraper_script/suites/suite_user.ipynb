{
 "cells": [
  {
   "cell_type": "markdown",
   "metadata": {},
   "source": [
    "# Suite: User\n",
    "Using Library Python Selenium to test the web site"
   ]
  },
  {
   "cell_type": "code",
   "execution_count": 1,
   "metadata": {},
   "outputs": [],
   "source": [
    "# ####### DEBUG ONLY #######\n",
    "# ####### Load the \"autoreload\" extension #######\n",
    "%load_ext autoreload\n",
    "# ####### always reload modules marked with \"%import\" #######\n",
    "%autoreload 2\n",
    "\n",
    "import os\n",
    "import sys\n",
    "\n",
    "\n",
    "sys.path.append(\"../config\")\n",
    "sys.path.append(\"../util\")\n",
    "sys.path.append(\"../tests\")"
   ]
  },
  {
   "cell_type": "code",
   "execution_count": 3,
   "metadata": {},
   "outputs": [],
   "source": [
    "# Importing packages\n",
    "from config import config\n",
    "from datetime import datetime, timedelta\n",
    "import json\n",
    "import logging\n",
    "import logging.config\n",
    "import pathlib\n",
    "from pprint import pprint\n",
    "# from web_driver import WebDriver\n",
    "import time\n",
    "import fx_test\n",
    "from fx_test import TestEngine\n",
    "\n",
    "from selenium.common.exceptions import StaleElementReferenceException, TimeoutException, ElementClickInterceptedException\n",
    "from selenium.webdriver.common.action_chains import ActionChains\n",
    "from selenium.webdriver.common.by import By\n",
    "from selenium.webdriver.support import expected_conditions\n",
    "from selenium.webdriver.support.ui import Select, WebDriverWait\n",
    "from selenium.webdriver.common.keys import Keys\n",
    "\n",
    "import unittest\n",
    "from ui_helper import UIHelper"
   ]
  },
  {
   "cell_type": "markdown",
   "metadata": {},
   "source": [
    "## Variables Declaration"
   ]
  },
  {
   "cell_type": "code",
   "execution_count": 4,
   "metadata": {},
   "outputs": [
    {
     "name": "stdout",
     "output_type": "stream",
     "text": [
      "[INFO] Test Suite: suite_user\n",
      "[INFO] Suite Case: suite_01\n"
     ]
    }
   ],
   "source": [
    "log_config = \"../config/logging.conf\"\n",
    "\n",
    "# # Create folder \"logs\"\n",
    "# pathlib.Path('../logs').mkdir(exist_ok=True)  \n",
    "# logging.log_file = datetime.now().strftime('../logs/log_%Y%m%d_%H%M%S.log')\n",
    "logging.config.fileConfig(log_config, disable_existing_loggers=False)\n",
    "logger = logging.getLogger(__name__)\n",
    "\n",
    "suite_name = \"suite_user\"\n",
    "suite_case = \"suite_01\"\n",
    "logger.info(\"Test Suite: {}\".format(suite_name))\n",
    "logger.info(\"Suite Case: {}\".format(suite_case))"
   ]
  },
  {
   "cell_type": "markdown",
   "metadata": {},
   "source": [
    "## Functions Definition"
   ]
  },
  {
   "cell_type": "code",
   "execution_count": null,
   "metadata": {},
   "outputs": [],
   "source": []
  },
  {
   "cell_type": "markdown",
   "metadata": {},
   "source": [
    "### Main Function Begin\n",
    "def main(args):"
   ]
  },
  {
   "cell_type": "code",
   "execution_count": 5,
   "metadata": {},
   "outputs": [
    {
     "name": "stdout",
     "output_type": "stream",
     "text": [
      "[INFO] Mode: windows\n",
      "[INFO] Base Url: http://211.25.204.108:30002/\n",
      "[INFO] User Name: zong.xian.soh@adv-fusionex.com\n"
     ]
    }
   ],
   "source": [
    "mode = config[\"web\"][\"mode\"]\n",
    "base_url = config[\"web\"][\"base_url\"]\n",
    "timeout = config[\"web\"][\"timeout\"]\n",
    "user_name = config[\"web\"][\"user_name\"]\n",
    "password = config[\"web\"][\"password\"]\n",
    "\n",
    "if mode == \"windows\":\n",
    "    driver_path = \"../../../library/drivers/chrome/win/chromedriver.exe\"\n",
    "else:\n",
    "    driver_path = \"../../../library/drivers/chrome/mac/chromedriver\"\n",
    "    \n",
    "logger.info(\"Mode: {}\".format(mode))\n",
    "logger.info(\"Base Url: {}\".format(base_url))\n",
    "logger.info(\"User Name: {}\".format(user_name))"
   ]
  },
  {
   "cell_type": "code",
   "execution_count": 7,
   "metadata": {},
   "outputs": [
    {
     "name": "stdout",
     "output_type": "stream",
     "text": [
      "TestEngine: WebDriver created!\n",
      "Mode: windows\n",
      "Driver Path: ../../../library/drivers/chrome/win/chromedriver.exe\n",
      "Timeout: 30\n"
     ]
    }
   ],
   "source": [
    "# Get web page\n",
    "instance = TestEngine(mode=\"windows\", driver_path=driver_path, timeout=timeout)\n",
    "instance.get_driver().get(base_url)"
   ]
  },
  {
   "cell_type": "markdown",
   "metadata": {},
   "source": [
    "<a id='top'></a>\n",
    "## Table of contents\n",
    "- <a href='#data_load'>Load Test Data</a>\n",
    "- <a href='#login'>Login</a>\n",
    "- <a href='#switch_company'>Switch Company</a>\n",
    "- <a href='#user'>User</a>"
   ]
  },
  {
   "cell_type": "markdown",
   "metadata": {},
   "source": [
    "<a id='login'></a>\n",
    "### Login\n",
    "<a href='#top'>top</a>"
   ]
  },
  {
   "cell_type": "code",
   "execution_count": null,
   "metadata": {},
   "outputs": [],
   "source": [
    "ui = UIHelper(instance, user_name=user_name, password=password)\n",
    "ui.login()"
   ]
  },
  {
   "cell_type": "markdown",
   "metadata": {},
   "source": [
    "<a id='data_load'></a>\n",
    "### Load Test Data\n",
    "<a href='#top'>top</a>"
   ]
  },
  {
   "cell_type": "code",
   "execution_count": null,
   "metadata": {},
   "outputs": [],
   "source": [
    "# Load sample data\n",
    "data_path =  f\"../data/{suite_case}/users.json\"\n",
    "users = ui.load_data(data_path)"
   ]
  },
  {
   "cell_type": "markdown",
   "metadata": {},
   "source": [
    "<a id='user'></a>\n",
    "### User\n",
    "<a href='#top'>top</a>"
   ]
  },
  {
   "cell_type": "code",
   "execution_count": null,
   "metadata": {},
   "outputs": [],
   "source": [
    "ui.click_user_settings(\"Users\")"
   ]
  },
  {
   "cell_type": "code",
   "execution_count": null,
   "metadata": {},
   "outputs": [],
   "source": [
    "for user in users:\n",
    "    locator = (By.XPATH, f'.//tbody/tr[contains(@class, \"row\") and .//a[contains(text(), \"{user[\"name\"]}\")]]')\n",
    "    elements = instance.find_elements(locator)\n",
    "\n",
    "    if len(elements) > 0:\n",
    "        logger.info(f\"Found: {user['name']}\")\n",
    "        instance.scroll_to_element(elements[0])\n",
    "        ui.click_edit(elements[0])\n",
    "    else:\n",
    "        logger.info(f\"Not Found: {user['name']}\")\n",
    "        ui.click_add()\n",
    "        \n",
    "    ui.enter_text((By.ID, \"name\"), user[\"name\"])\n",
    "    ui.enter_text((By.ID, \"email\"), user[\"email\"])\n",
    "    ui.enter_text((By.ID, \"password\"), user[\"password\"])\n",
    "    ui.enter_text((By.ID, \"password_confirmation\"), user[\"password\"])\n",
    "    instance.scroll_down()\n",
    "    ui.select_dropdown(\"Language\", user[\"language\"])\n",
    "    ui.select_dropdown(\"Landing Page\", user[\"landing_page\"])\n",
    "    ui.select_dropdown_multiple(\"Companies\", user[\"companies\"])\n",
    "    for role in user[\"roles\"]:  \n",
    "        ui.select_toggle_button(\"Roles\", role)\n",
    "    ui.select_toggle_button(\"Enabled\", user[\"enabled\"])\n",
    "    ui.click_save()\n",
    "    instance.wait(2)"
   ]
  },
  {
   "cell_type": "code",
   "execution_count": null,
   "metadata": {},
   "outputs": [],
   "source": [
    "instance.close()"
   ]
  }
 ],
 "metadata": {
  "anaconda-cloud": {},
  "kernelspec": {
   "display_name": "Python 3",
   "language": "python",
   "name": "python3"
  },
  "language_info": {
   "codemirror_mode": {
    "name": "ipython",
    "version": 3
   },
   "file_extension": ".py",
   "mimetype": "text/x-python",
   "name": "python",
   "nbconvert_exporter": "python",
   "pygments_lexer": "ipython3",
   "version": "3.6.12"
  }
 },
 "nbformat": 4,
 "nbformat_minor": 4
}
