{
 "cells": [
  {
   "cell_type": "markdown",
   "metadata": {},
   "source": [
    "# Suite: Purchases\n",
    "Using Library Python Selenium to test the web site"
   ]
  },
  {
   "cell_type": "code",
   "execution_count": 4,
   "metadata": {},
   "outputs": [],
   "source": [
    "# ####### DEBUG ONLY #######\n",
    "# ####### Load the \"autoreload\" extension #######\n",
    "%load_ext autoreload\n",
    "# ####### always reload modules marked with \"%import\" #######\n",
    "%autoreload 2\n",
    "\n",
    "import os\n",
    "import sys\n",
    "\n",
    "\n",
    "sys.path.append(\"../config\")\n",
    "sys.path.append(\"../util\")\n",
    "sys.path.append(\"../tests\")"
   ]
  },
  {
   "cell_type": "code",
   "execution_count": 5,
   "metadata": {},
   "outputs": [],
   "source": [
    "# Importing packages\n",
    "from config import config\n",
    "from datetime import datetime, timedelta\n",
    "import json\n",
    "import logging\n",
    "import logging.config\n",
    "import pathlib\n",
    "from pprint import pprint\n",
    "import fx_test\n",
    "from fx_test import TestEngine\n",
    "import time\n",
    "\n",
    "from selenium.common.exceptions import StaleElementReferenceException, TimeoutException, ElementClickInterceptedException\n",
    "from selenium.webdriver.common.action_chains import ActionChains\n",
    "from selenium.webdriver.common.by import By\n",
    "from selenium.webdriver.support import expected_conditions\n",
    "from selenium.webdriver.support.ui import Select, WebDriverWait\n",
    "from selenium.webdriver.common.keys import Keys\n",
    "\n",
    "import unittest\n",
    "from ui_helper import UIHelper"
   ]
  },
  {
   "cell_type": "markdown",
   "metadata": {},
   "source": [
    "## Variables Declaration"
   ]
  },
  {
   "cell_type": "code",
   "execution_count": 6,
   "metadata": {},
   "outputs": [
    {
     "name": "stdout",
     "output_type": "stream",
     "text": [
      "[INFO] Test Suite: suite_purchases\n",
      "[INFO] Suite Case: suite_02\n"
     ]
    }
   ],
   "source": [
    "log_config = \"../config/logging.conf\"\n",
    "\n",
    "# # Create folder \"logs\"\n",
    "# pathlib.Path('../logs').mkdir(exist_ok=True)  \n",
    "# logging.log_file = datetime.now().strftime('../logs/log_%Y%m%d_%H%M%S.log')\n",
    "logging.config.fileConfig(log_config, disable_existing_loggers=False)\n",
    "logger = logging.getLogger(__name__)\n",
    "\n",
    "suite_name = \"suite_purchases\"\n",
    "suite_case = \"suite_02\"\n",
    "logger.info(\"Test Suite: {}\".format(suite_name))\n",
    "logger.info(\"Suite Case: {}\".format(suite_case))"
   ]
  },
  {
   "cell_type": "markdown",
   "metadata": {},
   "source": [
    "## Functions Definition"
   ]
  },
  {
   "cell_type": "code",
   "execution_count": null,
   "metadata": {},
   "outputs": [],
   "source": []
  },
  {
   "cell_type": "markdown",
   "metadata": {},
   "source": [
    "### Main Function Begin\n",
    "def main(args):"
   ]
  },
  {
   "cell_type": "code",
   "execution_count": 8,
   "metadata": {},
   "outputs": [
    {
     "name": "stdout",
     "output_type": "stream",
     "text": [
      "[INFO] Mode: windows\n",
      "[INFO] Base Url: http://211.25.204.108:30002/\n",
      "[INFO] User Name: zong.xian.soh@adv-fusionex.com\n"
     ]
    }
   ],
   "source": [
    "mode = config[\"web\"][\"mode\"]\n",
    "base_url = config[\"web\"][\"base_url\"]\n",
    "timeout = config[\"web\"][\"timeout\"]\n",
    "user_name = config[\"web\"][\"user_name\"]\n",
    "password = config[\"web\"][\"password\"]\n",
    "company_short_name = config[\"data\"][\"company_short_name\"]\n",
    "company_name = config[\"data\"][\"company_name\"]\n",
    "\n",
    "if mode == \"windows\":\n",
    "    driver_path = \"../../../library/drivers/chrome/win/chromedriver.exe\"\n",
    "else:\n",
    "    driver_path = \"../../../library/drivers/chrome/mac/chromedriver\"\n",
    "    \n",
    "logger.info(\"Mode: {}\".format(mode))\n",
    "logger.info(\"Base Url: {}\".format(base_url))\n",
    "logger.info(\"User Name: {}\".format(user_name))"
   ]
  },
  {
   "cell_type": "code",
   "execution_count": 9,
   "metadata": {},
   "outputs": [
    {
     "name": "stdout",
     "output_type": "stream",
     "text": [
      "TestEngine: WebDriver created!\n",
      "Mode: windows\n",
      "Driver Path: ../../../library/drivers/chrome/win/chromedriver.exe\n",
      "Timeout: 10\n"
     ]
    }
   ],
   "source": [
    "# Get web page\n",
    "instance = TestEngine(mode=\"windows\", driver_path=driver_path, timeout=timeout)\n",
    "instance.get_driver().get(base_url)"
   ]
  },
  {
   "cell_type": "markdown",
   "metadata": {},
   "source": [
    "<a id='top'></a>\n",
    "## Table of contents\n",
    "- <a href='#data_load'>Load Test Data</a>\n",
    "- <a href='#login'>Login</a>\n",
    "- <a href='#switch_company'>Switch Company</a>\n",
    "- <a href='#invoices'>Purchases - Purchase Invoices</a>\n",
    "- <a href='#payments'>Purchases - Payments</a>\n",
    "- <a href='#debit_notes'>Purchases - Debit Notes</a>\n",
    "- <a href='#vendors'>Purchases - Vendors</a>"
   ]
  },
  {
   "cell_type": "markdown",
   "metadata": {},
   "source": [
    "<a id='login'></a>\n",
    "### Login\n",
    "<a href='#top'>top</a>"
   ]
  },
  {
   "cell_type": "code",
   "execution_count": null,
   "metadata": {},
   "outputs": [],
   "source": [
    "##Launch uihelper\n",
    "ui = UIHelper(instance, user_name=user_name, password=password)\n",
    "ui.login()"
   ]
  },
  {
   "cell_type": "markdown",
   "metadata": {},
   "source": [
    "<a id='data_load'></a>\n",
    "### Load Test Data\n",
    "<a href='#top'>top</a>"
   ]
  },
  {
   "cell_type": "code",
   "execution_count": null,
   "metadata": {},
   "outputs": [],
   "source": [
    "# Load sample data\n",
    "data_path =  f\"../data/{suite_case}/purchases.json\"\n",
    "data = ui.load_data(data_path)\n",
    "\n",
    "payments = data[\"payments\"]\n",
    "debit_notes = data[\"debit_notes\"]\n",
    "invoices = data[\"purchase_invoices\"]\n",
    "vendors = data[\"vendors\"]"
   ]
  },
  {
   "cell_type": "markdown",
   "metadata": {},
   "source": [
    "<a id='switch_company'></a>\n",
    "### Switch Company\n",
    "<a href='#top'>top</a>"
   ]
  },
  {
   "cell_type": "code",
   "execution_count": null,
   "metadata": {},
   "outputs": [],
   "source": [
    "ui.switch_company(company_name)"
   ]
  },
  {
   "cell_type": "markdown",
   "metadata": {},
   "source": [
    "<a id='invoices'></a>\n",
    "### Purchases - Purchase Invoices\n",
    "<a href='#top'>top</a>"
   ]
  },
  {
   "cell_type": "code",
   "execution_count": null,
   "metadata": {},
   "outputs": [],
   "source": [
    "ui.click_side_menu(\"Purchases\", \"Purchase Invoices\")"
   ]
  },
  {
   "cell_type": "code",
   "execution_count": null,
   "metadata": {},
   "outputs": [],
   "source": [
    "for invoice in invoices:\n",
    "    print(invoice)\n",
    "    ui.click_add()\n",
    "    ui.select_dropdown(\"Vendor\", invoice[\"vendor\"])\n",
    "    ui.select_dropdown(\"Currency\", invoice[\"currency\"])\n",
    "    ui.select_date_picker(\"Bill Date\", invoice[\"bill_date\"])\n",
    "    ui.enter_text((By.NAME,\"bill_number\"), invoice[\"bill_number\"])\n",
    "    \n",
    "    locator = (By.XPATH, '//div[@class=\"card-body\"]//div[contains(@class, \"col-sm-12 mb-4\") and .//*[text()[contains(., \"Items\")]]]')\n",
    "    elements = instance.find_elements(locator)\n",
    "    # to make Items visible\n",
    "    instance.scroll_to_element(elements[0])\n",
    "    for i in range(len(invoice[\"items\"])):\n",
    "        account_type = invoice[\"items\"][i][\"account_type\"]\n",
    "        name = invoice[\"items\"][i][\"name\"]\n",
    "        quantity = invoice[\"items\"][i][\"quantity\"]\n",
    "        # Select Account Type\n",
    "        instance.click_element((By.XPATH, f'.//tbody/tr[{i+1}]/td[2]//span[@class=\"el-input__prefix\"]'))\n",
    "        locator = (By.XPATH, f'//div[@class=\"el-select-dropdown el-popper\" and not(contains(@style, \"display: none\"))]//li[.//*[text()=\"{account_type}\"]]') \n",
    "        instance.click_element(locator)\n",
    "        # Select Name\n",
    "        instance.click_element((By.XPATH, f'.//tbody/tr[{i+1}]/td[3]//span[@class=\"el-input__prefix\"]'))\n",
    "        locator = (By.XPATH, f'//div[@class=\"el-select-dropdown el-popper\" and not(contains(@style, \"display: none\"))]//li[.//*[text()=\"{name}\"]]') \n",
    "        instance.click_element(locator)\n",
    "        # Insert Quantity\n",
    "        ui.enter_text((By.NAME, f\"items.{i}.quantity\"), str(quantity))\n",
    "    # Add discount\n",
    "    instance.click_element((By.XPATH, './/tr[@id=\"tr-discount\"]/td/span//span[@class=\"el-link--inner\"]'))\n",
    "    instance.enter_text((By.XPATH, './/input[@id=\"pre-discount\"]'), invoice[\"discount_rate\"])\n",
    "    instance.click_element((By.XPATH, './/button[@id=\"save-discount\"]'))\n",
    "    instance.scroll_down()\n",
    "    # Select Category\n",
    "    ui.select_dropdown(\"Category\", invoice[\"category\"])\n",
    "    ui.click_save()\n",
    "    instance.wait(5)\n",
    "    if invoice[\"status\"] == \"received\":\n",
    "        instance.click_element((By.XPATH, f'//div[@class=\"mt-3\"]//*[text()[contains(., \"Mark Received\")]]'))\n",
    "    if invoice[\"status\"] == \"paid\":\n",
    "        locator = (By.XPATH, '//div[@class=\"card-body\"]//div[contains(@class, \"timeline-block\") and .//*[text()[contains(., \"Make Payment\")]]]')\n",
    "        elements = instance.find_elements(locator)\n",
    "        # to make Make Payments visible\n",
    "        instance.scroll_to_element(elements[0])\n",
    "        instance.click_element((By.ID, \"button-payment\"), parent=elements[0])\n",
    "        ui.select_date_picker(\"Date\", invoice[\"payment_date\"])\n",
    "        instance.click_element((By.XPATH, './/div[@class=\"row\"]//div[contains(@class, \"form-group\") and .//*[text()[contains(., \"Account\")]]]'))\n",
    "        locator = (By.XPATH, f'//div[@class=\"el-select-dropdown el-popper\" and not(contains(@style, \"display: none\"))]//li[.//*[text()=\"{invoice[\"account\"]}\"]]') \n",
    "        instance.click_element(locator)\n",
    "        locator = (By.XPATH, './/div[@class=\"row\"]//div[contains(@class, \"form-group\") and .//*[text()[contains(., \"Payment Method\")]]]')\n",
    "        elements=instance.find_elements(locator)\n",
    "        instance.scroll_to_element(elements[0])\n",
    "        instance.click_element((By.XPATH, './/div[@class=\"row\"]//div[contains(@class, \"form-group\") and .//*[text()[contains(., \"Payment Method\")]]]'))\n",
    "        locator = (By.XPATH, f'//div[@class=\"el-select-dropdown el-popper\" and not(contains(@style, \"display: none\"))]//li[.//*[text()=\"{invoice[\"payment_method\"]}\"]]') \n",
    "        instance.click_element(locator)\n",
    "        # click save\n",
    "        locator = (By.XPATH, './/div[@class=\"modal-content\"]//button[@class=\"btn button-submit btn-success\"]')\n",
    "        instance.click_element(locator)\n",
    "    instance.click_element((By.XPATH, '//a[@class=\"nav-link active\"]//*[text()[contains(., \"Purchase Invoices\")]]'))\n",
    "    instance.wait(5)\n",
    "    break"
   ]
  },
  {
   "cell_type": "markdown",
   "metadata": {},
   "source": [
    "<a id='payments'></a>\n",
    "### Purchases - Payments\n",
    "<a href='#top'>top</a>"
   ]
  },
  {
   "cell_type": "code",
   "execution_count": null,
   "metadata": {},
   "outputs": [],
   "source": [
    "ui.click_side_menu(\"Purchases\", \"Payments\")"
   ]
  },
  {
   "cell_type": "code",
   "execution_count": null,
   "metadata": {},
   "outputs": [],
   "source": [
    "for payment in payments:\n",
    "    ui.click_add()\n",
    "    ui.select_date_picker(\"Date\", payment[\"date\"])\n",
    "    ui.enter_text((By.NAME, \"amount\"), str(payment[\"amount\"]) + \"0000\")\n",
    "    ui.select_dropdown(\"Account\", payment[\"account\"])\n",
    "    ui.select_dropdown(\"Vendor\", payment[\"vendor\"])\n",
    "    instance.scroll_down()\n",
    "    ui.select_dropdown(\"Category\", payment[\"category\"])\n",
    "    ui.select_dropdown(\"Recurring\", payment[\"recurring\"])\n",
    "    ui.select_dropdown(\"Payment Method\", payment[\"payment_method\"])\n",
    "    \n",
    "    ui.click_save()\n",
    "    instance.wait(5)"
   ]
  },
  {
   "cell_type": "markdown",
   "metadata": {},
   "source": [
    "<a id='debit_notes'></a>\n",
    "### Purchases - Debit Notes\n",
    "<a href='#top'>top</a>"
   ]
  },
  {
   "cell_type": "code",
   "execution_count": null,
   "metadata": {},
   "outputs": [],
   "source": [
    "ui.click_side_menu(\"Purchases\", \"Debit Notes\")"
   ]
  },
  {
   "cell_type": "code",
   "execution_count": null,
   "metadata": {},
   "outputs": [],
   "source": [
    "for debit_note in debit_notes:\n",
    "    print(debit_note)\n",
    "    ui.click_add()\n",
    "    instance.wait(2)\n",
    "    ui.select_dropdown(\"Vendor\", debit_note[\"vendor\"])\n",
    "    ui.select_dropdown(\"Currency\", debit_note[\"currency\"])\n",
    "    ui.select_date_picker(\"Debit Note Date\", debit_note[\"debit_at\"])\n",
    "    ui.enter_text((By.ID, \"debit_note_number\"), debit_note[\"debit_note_number\"])\n",
    "#     ui.select_dropdown(\"Bill\", debit_note[\"bill_number\"])\n",
    "\n",
    "    locator = (By.XPATH, '//div[@class=\"card-body\"]//div[contains(@class, \"col-sm-12 mb-4\") and .//*[text()[contains(., \"Items\")]]]')\n",
    "    elements = instance.find_elements(locator)\n",
    "    # to make Items visible\n",
    "    instance.scroll_to_element(elements[0])\n",
    "    for i in range(len(debit_note[\"items\"])):\n",
    "        name = debit_note[\"items\"][i][\"name\"]\n",
    "        quantity = debit_note[\"items\"][i][\"quantity\"]\n",
    "        # Select Name\n",
    "        instance.click_element((By.XPATH, f'.//tbody/tr[{i+1}]/td[2]//span[@class=\"el-input__prefix\"]'))\n",
    "        locator = (By.XPATH, f'//div[@class=\"el-select-dropdown el-popper\" and not(contains(@style, \"display: none\"))]//li[.//*[text()=\"{name}\"]]') \n",
    "        instance.click_element(locator)\n",
    "        # Insert Quantity\n",
    "        ui.enter_text((By.NAME, f\"items.{i}.quantity\"), str(quantity))\n",
    "    # Add Discount\n",
    "    instance.click_element((By.XPATH, './/tr[@id=\"tr-discount\"]/td/span//span[@class=\"el-link--inner\"]'))\n",
    "    instance.enter_text((By.XPATH, './/input[@id=\"pre-discount\"]'), debit_note[\"discount_rate\"])\n",
    "    instance.click_element((By.XPATH, './/button[@id=\"save-discount\"]'))\n",
    "    instance.scroll_down()\n",
    "    # Select Category\n",
    "    ui.select_dropdown(\"Category\", debit_note[\"category\"])\n",
    "    ui.click_save()\n",
    "    instance.wait(5)\n",
    "    instance.click_element((By.XPATH, f'//a[@class=\"nav-link active\"]//*[text()[contains(., \"Debit Notes\")]]'))\n",
    "    instance.wait(2)"
   ]
  },
  {
   "cell_type": "markdown",
   "metadata": {},
   "source": [
    "<a id='vendors'></a>\n",
    "### Purchases - Vendors\n",
    "<a href='#top'>top</a>"
   ]
  },
  {
   "cell_type": "code",
   "execution_count": null,
   "metadata": {},
   "outputs": [],
   "source": [
    "ui.click_side_menu(\"Purchases\", \"Vendors\")"
   ]
  },
  {
   "cell_type": "code",
   "execution_count": null,
   "metadata": {},
   "outputs": [],
   "source": [
    "for vendor in vendors:\n",
    "    locator = (By.XPATH, f'.//tbody/tr[contains(@class, \"row\") and .//a[contains(text(), \"{vendor[\"name\"]}\")]]')\n",
    "    elements = instance.find_elements(locator)\n",
    "    \n",
    "    if len(elements) > 0:\n",
    "        logger.info(f\"Found: {vendor['name']}\")\n",
    "        instance.scroll_to_element(elements[0])\n",
    "        ui.click_edit(elements[0])\n",
    "    else:\n",
    "        logger.info(f\"Not Found: {vendor['name']}\")\n",
    "        ui.click_add()\n",
    "        \n",
    "    ui.enter_text((By.ID, \"name\"), vendor[\"name\"])\n",
    "    ui.enter_text((By.ID, \"email\"), vendor[\"email\"])\n",
    "    ui.enter_text((By.ID, \"tax_number\"), vendor[\"tax\"])\n",
    "    ui.select_dropdown(\"Currency\", vendor[\"currency\"])\n",
    "    ui.enter_text((By.ID, \"phone\"), vendor[\"phone\"])\n",
    "    ui.enter_text((By.ID, \"website\"), vendor[\"website\"])\n",
    "    ui.enter_text((By.ID, \"address\"), vendor[\"address\"])\n",
    "    ui.enter_text((By.ID, \"reference\"), vendor[\"reference\"])\n",
    "    ui.click_save()\n",
    "    instance.wait(5)\n",
    "    instance.click_element((By.XPATH, f'//a[@class=\"nav-link active\"]//*[text()[contains(., \"Vendors\")]]'))\n",
    "    instance.wait(2)"
   ]
  },
  {
   "cell_type": "code",
   "execution_count": null,
   "metadata": {},
   "outputs": [],
   "source": [
    "instance.close()"
   ]
  }
 ],
 "metadata": {
  "anaconda-cloud": {},
  "kernelspec": {
   "display_name": "Python 3",
   "language": "python",
   "name": "python3"
  },
  "language_info": {
   "codemirror_mode": {
    "name": "ipython",
    "version": 3
   },
   "file_extension": ".py",
   "mimetype": "text/x-python",
   "name": "python",
   "nbconvert_exporter": "python",
   "pygments_lexer": "ipython3",
   "version": "3.6.12"
  }
 },
 "nbformat": 4,
 "nbformat_minor": 4
}
